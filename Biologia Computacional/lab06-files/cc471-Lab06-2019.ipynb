{
 "cells": [
  {
   "cell_type": "markdown",
   "metadata": {},
   "source": [
    "# CC471: LAB06 -2019 - Manejo de secuencias con BioPython\n",
    "\n",
    "\n",
    "## Practica: \n",
    "\n"
   ]
  },
  {
   "cell_type": "markdown",
   "metadata": {},
   "source": [
    "# BioPython\n",
    "\n",
    "BioPython es un paquete Python muy popular para manejar información biologica.\n",
    "\n",
    "Para instalar:\n",
    "\n",
    "```\n",
    "conda install biopython\n",
    "```\n",
    "ó\n",
    "\n",
    "```\n",
    "pip install biopython\n",
    "```\n",
    "\n",
    "\n",
    "BioPython tiene tres funcionalidades principales:\n",
    "\n",
    "* Sequence Handling\n",
    "* 3D Structure\n",
    "* Population Genetics\n",
    "\n",
    "\n",
    "Referencias: [tutorial](http://biopython.org/DIST/docs/tutorial/Tutorial.html), [website](http://biopython.org/), [wiki](http://biopython.org/wiki/Category%3AWiki_Documentation) (la mayoria de los ejemplos viene de estas fuentes).\n",
    " \n",
    "# `BioPython.Seq`\n",
    "\n",
    "El tipo de objeto principal que veremos son las secuencias. Se maneja con la clase `Seq`.\n",
    "\n",
    "Como es sabido, podemos tener secuencias de tipo ADN , RNA, y  Proteinas .\n",
    "\n",
    "BioPython ayuda a distinguir y hacer diferentes cosas con los diferentes tipos de secuencias."
   ]
  },
  {
   "cell_type": "code",
   "execution_count": 2,
   "metadata": {},
   "outputs": [
    {
     "name": "stdout",
     "output_type": "stream",
     "text": [
      "<class 'Bio.Seq.Seq'>\n",
      "['alphabet', 'back_transcribe', 'complement', 'count', 'count_overlap', 'endswith', 'find', 'lower', 'lstrip', 'reverse_complement', 'rfind', 'rsplit', 'rstrip', 'split', 'startswith', 'strip', 'tomutable', 'tostring', 'transcribe', 'translate', 'ungap', 'upper']\n"
     ]
    }
   ],
   "source": [
    "#let's make a generic sequence\n",
    "\n",
    "from Bio.Seq import Seq\n",
    "\n",
    "my_seq = Seq(\"CCCGGAGAGA\")\n",
    "print(type(my_seq))\n",
    "#let's see what attributes this object has\n",
    "attributes = [a for a in dir(my_seq) if not a.startswith(\"_\")]\n",
    "print(attributes)"
   ]
  },
  {
   "cell_type": "markdown",
   "metadata": {},
   "source": [
    "Al parecer se puede hacer mucho con este tipo de objetos.\n",
    "\n",
    "El problema es que Python no conoce que tipo de secencia es esta (DNA, RNA, Proteina).\n",
    "\n",
    "debemos especificar a que tipo de \"Alphabeto\" pertenece a secuencia."
   ]
  },
  {
   "cell_type": "code",
   "execution_count": 3,
   "metadata": {},
   "outputs": [
    {
     "name": "stdout",
     "output_type": "stream",
     "text": [
      "Alphabet()\n"
     ]
    }
   ],
   "source": [
    "#right now it has just a generic alphabet\n",
    "print(my_seq.alphabet)"
   ]
  },
  {
   "cell_type": "code",
   "execution_count": 4,
   "metadata": {},
   "outputs": [],
   "source": [
    "from Bio.Alphabet import generic_dna, generic_protein, generic_rna\n",
    "\n",
    "my_dna = Seq(\"CCCGGAGAG\", generic_dna)\n",
    "my_rna = Seq(\"ACCCGUUGU\", generic_rna)\n",
    "my_protein = Seq(\"AKKKGGGUUULL\", generic_protein)"
   ]
  },
  {
   "cell_type": "markdown",
   "metadata": {},
   "source": [
    "Biopython ahora sabrá la diferencia entre una base de ADN `A` de adenina y un residuo de proteina `A` de  alanina.\n",
    "\n",
    "ahora se puede realizar acciones del dogma central : transcripcion y traduccion."
   ]
  },
  {
   "cell_type": "code",
   "execution_count": 5,
   "metadata": {},
   "outputs": [
    {
     "name": "stdout",
     "output_type": "stream",
     "text": [
      "ACUAGCAGCGGA\n",
      "RNAAlphabet()\n",
      "TSSG\n",
      "ExtendedIUPACProtein()\n"
     ]
    }
   ],
   "source": [
    "my_gene = Seq(\"ACTAGCAGCGGA\", generic_dna)\n",
    "\n",
    "#get the mRNA\n",
    "\n",
    "my_transcript = my_gene.transcribe()\n",
    "print(my_transcript)\n",
    "print(my_transcript.alphabet)\n",
    "\n",
    "\n",
    "#get the protein from the mRNA\n",
    "my_protein = my_transcript.translate()\n",
    "print(my_protein)\n",
    "print(my_protein.alphabet)"
   ]
  },
  {
   "cell_type": "markdown",
   "metadata": {},
   "source": [
    "También se puede pasar directamente de un ADN a la proteina."
   ]
  },
  {
   "cell_type": "code",
   "execution_count": 6,
   "metadata": {},
   "outputs": [
    {
     "name": "stdout",
     "output_type": "stream",
     "text": [
      "MAIVMGR*KGAR*\n"
     ]
    }
   ],
   "source": [
    "coding_dna = Seq(\"ATGGCCATTGTAATGGGCCGCTGAAAGGGTGCCCGATAG\", generic_dna)\n",
    "myprot = coding_dna.translate()\n",
    "print(myprot)"
   ]
  },
  {
   "cell_type": "markdown",
   "metadata": {},
   "source": [
    "Como se puede ver, tenemos algunos STOP codones representados como `*` y la traducción continuó.\n",
    "\n",
    "podemos hacer que la traducción realmente pare cuando encuentre un STOP codon."
   ]
  },
  {
   "cell_type": "code",
   "execution_count": 7,
   "metadata": {},
   "outputs": [
    {
     "name": "stdout",
     "output_type": "stream",
     "text": [
      "MAIVMGR\n"
     ]
    }
   ],
   "source": [
    "myprot = coding_dna.translate(to_stop=True)\n",
    "print(myprot)"
   ]
  },
  {
   "cell_type": "markdown",
   "metadata": {},
   "source": [
    "Incluso se puede ser mas realista, y permitir solamente la traducción de genes válidos  (por ejemplo,  con codones de START y STOP válidos y un numero apropiado de bases).\n",
    "\n",
    "Esto se hace estableciendo  la keyword `cds=True` , que significa  \"coding sequence\".\n",
    "\n",
    "Si no tuvieramos una coding secuence válida obtendremos un error."
   ]
  },
  {
   "cell_type": "code",
   "execution_count": 8,
   "metadata": {},
   "outputs": [
    {
     "ename": "TranslationError",
     "evalue": "Extra in frame stop codon found.",
     "output_type": "error",
     "traceback": [
      "\u001b[0;31m---------------------------------------------------------------------------\u001b[0m",
      "\u001b[0;31mKeyError\u001b[0m                                  Traceback (most recent call last)",
      "\u001b[0;32m/usr/local/lib/python3.6/dist-packages/Bio/Seq.py\u001b[0m in \u001b[0;36m_translate_str\u001b[0;34m(sequence, table, stop_symbol, to_stop, cds, pos_stop, gap)\u001b[0m\n\u001b[1;32m   2587\u001b[0m         \u001b[0;32mtry\u001b[0m\u001b[0;34m:\u001b[0m\u001b[0;34m\u001b[0m\u001b[0m\n\u001b[0;32m-> 2588\u001b[0;31m             \u001b[0mamino_acids\u001b[0m\u001b[0;34m.\u001b[0m\u001b[0mappend\u001b[0m\u001b[0;34m(\u001b[0m\u001b[0mforward_table\u001b[0m\u001b[0;34m[\u001b[0m\u001b[0mcodon\u001b[0m\u001b[0;34m]\u001b[0m\u001b[0;34m)\u001b[0m\u001b[0;34m\u001b[0m\u001b[0m\n\u001b[0m\u001b[1;32m   2589\u001b[0m         \u001b[0;32mexcept\u001b[0m \u001b[0;34m(\u001b[0m\u001b[0mKeyError\u001b[0m\u001b[0;34m,\u001b[0m \u001b[0mCodonTable\u001b[0m\u001b[0;34m.\u001b[0m\u001b[0mTranslationError\u001b[0m\u001b[0;34m)\u001b[0m\u001b[0;34m:\u001b[0m\u001b[0;34m\u001b[0m\u001b[0m\n",
      "\u001b[0;32m/usr/local/lib/python3.6/dist-packages/Bio/Data/CodonTable.py\u001b[0m in \u001b[0;36m__getitem__\u001b[0;34m(self, codon)\u001b[0m\n\u001b[1;32m    384\u001b[0m             \u001b[0;32mif\u001b[0m \u001b[0mx\u001b[0m \u001b[0;32mis\u001b[0m \u001b[0mKeyError\u001b[0m\u001b[0;34m:\u001b[0m\u001b[0;34m\u001b[0m\u001b[0m\n\u001b[0;32m--> 385\u001b[0;31m                 \u001b[0;32mraise\u001b[0m \u001b[0mKeyError\u001b[0m\u001b[0;34m(\u001b[0m\u001b[0mcodon\u001b[0m\u001b[0;34m)\u001b[0m  \u001b[0;31m# it's a stop codon\u001b[0m\u001b[0;34m\u001b[0m\u001b[0m\n\u001b[0m\u001b[1;32m    386\u001b[0m             \u001b[0;32mreturn\u001b[0m \u001b[0mx\u001b[0m\u001b[0;34m\u001b[0m\u001b[0m\n",
      "\u001b[0;31mKeyError\u001b[0m: 'TGA'",
      "\nDuring handling of the above exception, another exception occurred:\n",
      "\u001b[0;31mTranslationError\u001b[0m                          Traceback (most recent call last)",
      "\u001b[0;32m<ipython-input-8-c32b2502db4f>\u001b[0m in \u001b[0;36m<module>\u001b[0;34m()\u001b[0m\n\u001b[0;32m----> 1\u001b[0;31m \u001b[0mmyprot\u001b[0m \u001b[0;34m=\u001b[0m \u001b[0mcoding_dna\u001b[0m\u001b[0;34m.\u001b[0m\u001b[0mtranslate\u001b[0m\u001b[0;34m(\u001b[0m\u001b[0mcds\u001b[0m\u001b[0;34m=\u001b[0m\u001b[0;32mTrue\u001b[0m\u001b[0;34m)\u001b[0m\u001b[0;34m\u001b[0m\u001b[0m\n\u001b[0m",
      "\u001b[0;32m/usr/local/lib/python3.6/dist-packages/Bio/Seq.py\u001b[0m in \u001b[0;36mtranslate\u001b[0;34m(self, table, stop_symbol, to_stop, cds, gap)\u001b[0m\n\u001b[1;32m   1161\u001b[0m \u001b[0;34m\u001b[0m\u001b[0m\n\u001b[1;32m   1162\u001b[0m         protein = _translate_str(str(self), codon_table, stop_symbol, to_stop,\n\u001b[0;32m-> 1163\u001b[0;31m                                  cds, gap=gap)\n\u001b[0m\u001b[1;32m   1164\u001b[0m \u001b[0;34m\u001b[0m\u001b[0m\n\u001b[1;32m   1165\u001b[0m         \u001b[0;32mif\u001b[0m \u001b[0mgap\u001b[0m \u001b[0;32mand\u001b[0m \u001b[0mgap\u001b[0m \u001b[0;32min\u001b[0m \u001b[0mprotein\u001b[0m\u001b[0;34m:\u001b[0m\u001b[0;34m\u001b[0m\u001b[0m\n",
      "\u001b[0;32m/usr/local/lib/python3.6/dist-packages/Bio/Seq.py\u001b[0m in \u001b[0;36m_translate_str\u001b[0;34m(sequence, table, stop_symbol, to_stop, cds, pos_stop, gap)\u001b[0m\n\u001b[1;32m   2591\u001b[0m                 \u001b[0;32mif\u001b[0m \u001b[0mcds\u001b[0m\u001b[0;34m:\u001b[0m\u001b[0;34m\u001b[0m\u001b[0m\n\u001b[1;32m   2592\u001b[0m                     raise CodonTable.TranslationError(\n\u001b[0;32m-> 2593\u001b[0;31m                         \"Extra in frame stop codon found.\")\n\u001b[0m\u001b[1;32m   2594\u001b[0m                 \u001b[0;32mif\u001b[0m \u001b[0mto_stop\u001b[0m\u001b[0;34m:\u001b[0m\u001b[0;34m\u001b[0m\u001b[0m\n\u001b[1;32m   2595\u001b[0m                     \u001b[0;32mbreak\u001b[0m\u001b[0;34m\u001b[0m\u001b[0m\n",
      "\u001b[0;31mTranslationError\u001b[0m: Extra in frame stop codon found."
     ]
    }
   ],
   "source": [
    "myprot = coding_dna.translate(cds=True)"
   ]
  },
  {
   "cell_type": "code",
   "execution_count": 10,
   "metadata": {},
   "outputs": [
    {
     "data": {
      "text/plain": [
       "Seq('MAIVM', ExtendedIUPACProtein())"
      ]
     },
     "execution_count": 10,
     "metadata": {},
     "output_type": "execute_result"
    }
   ],
   "source": [
    "gene = Seq(\"ATGGCCATTGTAATGTAG\", generic_dna)\n",
    "gene.translate(cds=True)"
   ]
  },
  {
   "cell_type": "markdown",
   "metadata": {},
   "source": [
    "### Metodos generales para secuencias\n",
    "\n",
    "Existen algunas operaciones convenientes para trabajar con secuencias."
   ]
  },
  {
   "cell_type": "markdown",
   "metadata": {},
   "source": [
    "se pueden concatenar sequencias si son de tipos identicos."
   ]
  },
  {
   "cell_type": "code",
   "execution_count": 11,
   "metadata": {},
   "outputs": [
    {
     "data": {
      "text/plain": [
       "Seq('AAACGGAGGAGAT', DNAAlphabet())"
      ]
     },
     "execution_count": 11,
     "metadata": {},
     "output_type": "execute_result"
    }
   ],
   "source": [
    "seq1 = Seq(\"AAACGGA\", generic_dna)\n",
    "seq2 = Seq(\"GGAGAT\", generic_dna)\n",
    "\n",
    "seq1 + seq2"
   ]
  },
  {
   "cell_type": "markdown",
   "metadata": {},
   "source": [
    "Tambien se puede indexar y cortar como si fueran  strings."
   ]
  },
  {
   "cell_type": "code",
   "execution_count": 12,
   "metadata": {},
   "outputs": [
    {
     "name": "stdout",
     "output_type": "stream",
     "text": [
      "AAACG\n",
      "A\n"
     ]
    },
    {
     "data": {
      "text/plain": [
       "Seq('AAACGA', DNAAlphabet())"
      ]
     },
     "execution_count": 12,
     "metadata": {},
     "output_type": "execute_result"
    }
   ],
   "source": [
    "print(seq1[:5]) \n",
    "print(seq2[-2]) \n",
    "seq1[:5] + seq2[-2]"
   ]
  },
  {
   "cell_type": "markdown",
   "metadata": {},
   "source": [
    "los objetos tipo `Seq` son inmutables, como las strings."
   ]
  },
  {
   "cell_type": "code",
   "execution_count": 13,
   "metadata": {},
   "outputs": [
    {
     "ename": "TypeError",
     "evalue": "'Seq' object does not support item assignment",
     "output_type": "error",
     "traceback": [
      "\u001b[0;31m---------------------------------------------------------------------------\u001b[0m",
      "\u001b[0;31mTypeError\u001b[0m                                 Traceback (most recent call last)",
      "\u001b[0;32m<ipython-input-13-63a2f93c4add>\u001b[0m in \u001b[0;36m<module>\u001b[0;34m()\u001b[0m\n\u001b[0;32m----> 1\u001b[0;31m \u001b[0mseq1\u001b[0m\u001b[0;34m[\u001b[0m\u001b[0;36m2\u001b[0m\u001b[0;34m]\u001b[0m \u001b[0;34m=\u001b[0m \u001b[0;34m\"G\"\u001b[0m\u001b[0;34m\u001b[0m\u001b[0m\n\u001b[0m",
      "\u001b[0;31mTypeError\u001b[0m: 'Seq' object does not support item assignment"
     ]
    }
   ],
   "source": [
    "seq1[2] = \"G\""
   ]
  },
  {
   "cell_type": "markdown",
   "metadata": {},
   "source": [
    "Existe otro tipo de objeto llamado  `MutableSeq`.  Si queremos utilizar mutabilidad podemos convertir un objeto `Seq` a otro objeto `MutableSeq` facilmente."
   ]
  },
  {
   "cell_type": "code",
   "execution_count": 14,
   "metadata": {},
   "outputs": [
    {
     "data": {
      "text/plain": [
       "MutableSeq('AAACGGA', DNAAlphabet())"
      ]
     },
     "execution_count": 14,
     "metadata": {},
     "output_type": "execute_result"
    }
   ],
   "source": [
    "mut_seq = seq1.tomutable()\n",
    "mut_seq"
   ]
  },
  {
   "cell_type": "code",
   "execution_count": 15,
   "metadata": {},
   "outputs": [
    {
     "name": "stdout",
     "output_type": "stream",
     "text": [
      "GAACGGA\n"
     ]
    }
   ],
   "source": [
    "mut_seq[0] = \"G\"\n",
    "print(mut_seq)"
   ]
  },
  {
   "cell_type": "markdown",
   "metadata": {},
   "source": [
    "Tambien podemos hacer búsquedas dentro de las secuencias"
   ]
  },
  {
   "cell_type": "code",
   "execution_count": 16,
   "metadata": {},
   "outputs": [
    {
     "name": "stdout",
     "output_type": "stream",
     "text": [
      "3\n",
      "2\n"
     ]
    }
   ],
   "source": [
    "myseq = Seq(\"CCAGAAACCCGGAA\", generic_dna)\n",
    "\n",
    "#find the first occurence of the pattern\n",
    "print(myseq.find(\"GAA\"))\n",
    "\n",
    "#find the number of non-overlapping occurrences of a pattern\n",
    "print(myseq.count(\"GAA\"))"
   ]
  },
  {
   "cell_type": "markdown",
   "metadata": {},
   "source": [
    "# Busqueda en Bases de Datos\n",
    "\n",
    "Digamos que ha aislado una parte de un ADN en el laboratorio y tiene su secuencia.\n",
    "\n",
    "Ahora quiere encontrar a que organismo pertenece esta secuencia.\n",
    "\n",
    "Si pregunta a un Biologo le dirá \"BLASTealo \".\n",
    "\n",
    "BLAST es un algoritmo de alineamiento que busca su secuencia en una enorme base de datos de secuencias cuyos origenes se conocen.\n",
    "\n",
    "Sin la ayuda de BioPython, tendriamos que subir nuestras secuencias al servidor BLAST  `AAAAGGAGAGAGAGTTTATA` accediendo al servidor de NCBI [NCBI BLAST web server](https://blast.ncbi.nlm.nih.gov/Blast.cgi?PROGRAM=blastn&PAGE_TYPE=BlastSearch&LINK_LOC=blasthome). Que pasaria si tuvieramos cientos de secuencias para investigar?\n",
    "\n",
    "Gracias a BioPython podemos hacerlo automaticamente!\n",
    "\n",
    "El metodo  `qblast`de lo módulo `Bio.Blast.NCBIWWW` envia nuestra secuencia al sevidor  BLAST.\n",
    "\n",
    "Aqui utilizaremos el el algoritmo de \"BLAST para nucleotidos\"  `blastn` y lo utilizaremos en la base de datos de todas las secuencias de nucleotidos, llamada `nt`.\n"
   ]
  },
  {
   "cell_type": "code",
   "execution_count": 31,
   "metadata": {},
   "outputs": [
    {
     "name": "stdout",
     "output_type": "stream",
     "text": [
      "<_io.StringIO object at 0x7f3ec7a6d168>\n"
     ]
    }
   ],
   "source": [
    "from Bio.Blast import NCBIWWW\n",
    "\n",
    "result_handle = NCBIWWW.qblast(\"blastn\", \"nt\", Seq(\"ACCGCCGAGACCGCGTCCGCCCCGCGAGCACAGAGCCTCGCCTTTGCCGATCCGCCGCCCGTCCA\", generic_dna))\n",
    "print(result_handle)"
   ]
  },
  {
   "cell_type": "markdown",
   "metadata": {},
   "source": [
    "###Esperamos algunos segundos \n",
    "para obtener un  `result_handle` que es como un archivo  temporal abierto para lectura.\n",
    "\n",
    "El formato de este archivo es XML, Felizmente BioPython tiene un parser XML que extrae toda la información necesaria para nosotros."
   ]
  },
  {
   "cell_type": "code",
   "execution_count": 32,
   "metadata": {},
   "outputs": [
    {
     "name": "stdout",
     "output_type": "stream",
     "text": [
      "<built-in method __sizeof__ of generator object at 0x7f3eaf665b48>\n"
     ]
    }
   ],
   "source": [
    "from Bio.Blast import NCBIXML\n",
    "blast_records = NCBIXML.parse(result_handle)\n",
    "dir(blast_records)\n",
    "print(blast_records.__sizeof__)"
   ]
  },
  {
   "cell_type": "markdown",
   "metadata": {},
   "source": [
    "Obtenemos un \"iterator\" de objetos tipo record de BLAST, o \" resultados de la busqueda\". Ahora se puede hacer un ciclo sobre cada uno de nuestros resultados  e imprimir alguna información.\n",
    "\n",
    "Aqui hacemos un Loop sobre todos los resultados que tienen el atributo \n",
    " `alignments` que son los alineamientos de nuestra secuencia con algun organismo en la base de datos.\n",
    "\n",
    "El atributo `alignment` en si tiene otros atributos como la secuencia `query`, la longitud `length` y titulo `title` del organismo correspondiente"
   ]
  },
  {
   "cell_type": "code",
   "execution_count": 33,
   "metadata": {},
   "outputs": [
    {
     "name": "stdout",
     "output_type": "stream",
     "text": [
      "1\n",
      "****Alineamiento****\n",
      "secuencia: gi|1241781418|ref|NM_001101.4| Homo sapiens actin beta (ACTB), mRNA\n",
      "longitud: 1940\n",
      "e value: 1.29882e-23\n",
      "ACCGCCGAGACCGCGTCCGCCCCGCGAGCACAGAGCCTCGCCTTTGCCGATCCGCCGCCCGTCCA...\n",
      "|||||||||||||||||||||||||||||||||||||||||||||||||||||||||||||||||...\n",
      "ACCGCCGAGACCGCGTCCGCCCCGCGAGCACAGAGCCTCGCCTTTGCCGATCCGCCGCCCGTCCA...\n",
      "****Alineamiento****\n",
      "secuencia: gi|1099288504|ref|XM_019030619.1| PREDICTED: Gorilla gorilla gorilla actin beta (ACTB), mRNA\n",
      "longitud: 1825\n",
      "e value: 1.29882e-23\n",
      "ACCGCCGAGACCGCGTCCGCCCCGCGAGCACAGAGCCTCGCCTTTGCCGATCCGCCGCCCGTCCA...\n",
      "|||||||||||||||||||||||||||||||||||||||||||||||||||||||||||||||||...\n",
      "ACCGCCGAGACCGCGTCCGCCCCGCGAGCACAGAGCCTCGCCTTTGCCGATCCGCCGCCCGTCCA...\n",
      "****Alineamiento****\n",
      "secuencia: gi|343960005|dbj|AK306863.1| Pan troglodytes mRNA for actin, cytoplasmic 1, complete cds, clone: PtsC-1-5_F07\n",
      "longitud: 1824\n",
      "e value: 1.29882e-23\n",
      "ACCGCCGAGACCGCGTCCGCCCCGCGAGCACAGAGCCTCGCCTTTGCCGATCCGCCGCCCGTCCA...\n",
      "|||||||||||||||||||||||||||||||||||||||||||||||||||||||||||||||||...\n",
      "ACCGCCGAGACCGCGTCCGCCCCGCGAGCACAGAGCCTCGCCTTTGCCGATCCGCCGCCCGTCCA...\n",
      "****Alineamiento****\n",
      "secuencia: gi|221046109|dbj|AK316361.1| Homo sapiens cDNA, FLJ79260 complete cds, highly similar to Actin, cytoplasmic 2\n",
      "longitud: 1087\n",
      "e value: 1.29882e-23\n",
      "ACCGCCGAGACCGCGTCCGCCCCGCGAGCACAGAGCCTCGCCTTTGCCGATCCGCCGCCCGTCCA...\n",
      "|||||||||||||||||||||||||||||||||||||||||||||||||||||||||||||||||...\n",
      "ACCGCCGAGACCGCGTCCGCCCCGCGAGCACAGAGCCTCGCCTTTGCCGATCCGCCGCCCGTCCA...\n",
      "****Alineamiento****\n",
      "secuencia: gi|194385943|dbj|AK304552.1| Homo sapiens cDNA FLJ52842 complete cds, highly similar to Actin, cytoplasmic 1\n",
      "longitud: 1486\n",
      "e value: 1.29882e-23\n",
      "ACCGCCGAGACCGCGTCCGCCCCGCGAGCACAGAGCCTCGCCTTTGCCGATCCGCCGCCCGTCCA...\n",
      "|||||||||||||||||||||||||||||||||||||||||||||||||||||||||||||||||...\n",
      "ACCGCCGAGACCGCGTCCGCCCCGCGAGCACAGAGCCTCGCCTTTGCCGATCCGCCGCCCGTCCA...\n",
      "****Alineamiento****\n",
      "secuencia: gi|194376309|dbj|AK301372.1| Homo sapiens cDNA FLJ55253 complete cds, highly similar to Actin, cytoplasmic 1\n",
      "longitud: 1255\n",
      "e value: 1.29882e-23\n",
      "ACCGCCGAGACCGCGTCCGCCCCGCGAGCACAGAGCCTCGCCTTTGCCGATCCGCCGCCCGTCCA...\n",
      "|||||||||||||||||||||||||||||||||||||||||||||||||||||||||||||||||...\n",
      "ACCGCCGAGACCGCGTCCGCCCCGCGAGCACAGAGCCTCGCCTTTGCCGATCCGCCGCCCGTCCA...\n",
      "****Alineamiento****\n",
      "secuencia: gi|189571644|ref|NG_007992.1| Homo sapiens actin beta (ACTB), RefSeqGene (LRG_132) on chromosome 7\n",
      "longitud: 10454\n",
      "e value: 1.29882e-23\n",
      "ACCGCCGAGACCGCGTCCGCCCCGCGAGCACAGAGCCTCGCCTTTGCCGATCCGCCGCCCGTCCA...\n",
      "|||||||||||||||||||||||||||||||||||||||||||||||||||||||||||||||||...\n",
      "ACCGCCGAGACCGCGTCCGCCCCGCGAGCACAGAGCCTCGCCTTTGCCGATCCGCCGCCCGTCCA...\n",
      "****Alineamiento****\n",
      "secuencia: gi|164695031|dbj|AK308277.1| Homo sapiens cDNA, FLJ98225\n",
      "longitud: 1499\n",
      "e value: 1.29882e-23\n",
      "ACCGCCGAGACCGCGTCCGCCCCGCGAGCACAGAGCCTCGCCTTTGCCGATCCGCCGCCCGTCCA...\n",
      "|||||||||||||||||||||||||||||||||||||||||||||||||||||||||||||||||...\n",
      "ACCGCCGAGACCGCGTCCGCCCCGCGAGCACAGAGCCTCGCCTTTGCCGATCCGCCGCCCGTCCA...\n",
      "****Alineamiento****\n",
      "secuencia: gi|164690869|dbj|AK309997.1| Homo sapiens cDNA, FLJ17039\n",
      "longitud: 1846\n",
      "e value: 1.29882e-23\n",
      "ACCGCCGAGACCGCGTCCGCCCCGCGAGCACAGAGCCTCGCCTTTGCCGATCCGCCGCCCGTCCA...\n",
      "|||||||||||||||||||||||||||||||||||||||||||||||||||||||||||||||||...\n",
      "ACCGCCGAGACCGCGTCCGCCCCGCGAGCACAGAGCCTCGCCTTTGCCGATCCGCCGCCCGTCCA...\n",
      "****Alineamiento****\n",
      "secuencia: gi|110623790|dbj|AK225414.1| Homo sapiens mRNA for beta actin variant, clone: HRC08987\n",
      "longitud: 1656\n",
      "e value: 1.29882e-23\n",
      "ACCGCCGAGACCGCGTCCGCCCCGCGAGCACAGAGCCTCGCCTTTGCCGATCCGCCGCCCGTCCA...\n",
      "|||||||||||||||||||||||||||||||||||||||||||||||||||||||||||||||||...\n",
      "ACCGCCGAGACCGCGTCCGCCCCGCGAGCACAGAGCCTCGCCTTTGCCGATCCGCCGCCCGTCCA...\n",
      "****Alineamiento****\n",
      "secuencia: gi|45934425|gb|AY582799.1| Homo sapiens actin, beta (ACTB) gene, complete cds\n",
      "longitud: 7399\n",
      "e value: 1.29882e-23\n",
      "ACCGCCGAGACCGCGTCCGCCCCGCGAGCACAGAGCCTCGCCTTTGCCGATCCGCCGCCCGTCCA...\n",
      "|||||||||||||||||||||||||||||||||||||||||||||||||||||||||||||||||...\n",
      "ACCGCCGAGACCGCGTCCGCCCCGCGAGCACAGAGCCTCGCCTTTGCCGATCCGCCGCCCGTCCA...\n",
      "****Alineamiento****\n",
      "secuencia: gi|62897670|dbj|AK223055.1| Homo sapiens mRNA for beta actin variant, clone: KAT00430\n",
      "longitud: 1643\n",
      "e value: 1.29882e-23\n",
      "ACCGCCGAGACCGCGTCCGCCCCGCGAGCACAGAGCCTCGCCTTTGCCGATCCGCCGCCCGTCCA...\n",
      "|||||||||||||||||||||||||||||||||||||||||||||||||||||||||||||||||...\n",
      "ACCGCCGAGACCGCGTCCGCCCCGCGAGCACAGAGCCTCGCCTTTGCCGATCCGCCGCCCGTCCA...\n",
      "****Alineamiento****\n",
      "secuencia: gi|62897624|dbj|AK223032.1| Homo sapiens mRNA for beta actin variant, clone: JTH03396\n",
      "longitud: 1820\n",
      "e value: 1.29882e-23\n",
      "ACCGCCGAGACCGCGTCCGCCCCGCGAGCACAGAGCCTCGCCTTTGCCGATCCGCCGCCCGTCCA...\n",
      "|||||||||||||||||||||||||||||||||||||||||||||||||||||||||||||||||...\n",
      "ACCGCCGAGACCGCGTCCGCCCCGCGAGCACAGAGCCTCGCCTTTGCCGATCCGCCGCCCGTCCA...\n",
      "****Alineamiento****\n",
      "secuencia: gi|62897408|dbj|AK222925.1| Homo sapiens mRNA for beta actin variant, clone: HRC07191\n",
      "longitud: 1833\n",
      "e value: 1.29882e-23\n",
      "ACCGCCGAGACCGCGTCCGCCCCGCGAGCACAGAGCCTCGCCTTTGCCGATCCGCCGCCCGTCCA...\n",
      "|||||||||||||||||||||||||||||||||||||||||||||||||||||||||||||||||...\n",
      "ACCGCCGAGACCGCGTCCGCCCCGCGAGCACAGAGCCTCGCCTTTGCCGATCCGCCGCCCGTCCA...\n",
      "****Alineamiento****\n",
      "secuencia: gi|57977284|ref|NM_001009945.1| Pan troglodytes actin beta (ACTB), mRNA >gi|56342329|dbj|AB188274.1| Pan troglodytes verus actb mRNA for beta-actin, complete cds\n",
      "longitud: 1850\n",
      "e value: 1.29882e-23\n",
      "ACCGCCGAGACCGCGTCCGCCCCGCGAGCACAGAGCCTCGCCTTTGCCGATCCGCCGCCCGTCCA...\n",
      "|||||||||||||||||||||||||||||||||||||||||||||||||||||||||||||||||...\n",
      "ACCGCCGAGACCGCGTCCGCCCCGCGAGCACAGAGCCTCGCCTTTGCCGATCCGCCGCCCGTCCA...\n",
      "****Alineamiento****\n",
      "secuencia: gi|9211523|gb|AC006483.3| Homo sapiens BAC clone CTB-161C1 from 7, complete sequence\n",
      "longitud: 196416\n",
      "e value: 1.29882e-23\n",
      "ACCGCCGAGACCGCGTCCGCCCCGCGAGCACAGAGCCTCGCCTTTGCCGATCCGCCGCCCGTCCA...\n",
      "|||||||||||||||||||||||||||||||||||||||||||||||||||||||||||||||||...\n",
      "ACCGCCGAGACCGCGTCCGCCCCGCGAGCACAGAGCCTCGCCTTTGCCGATCCGCCGCCCGTCCA...\n",
      "****Alineamiento****\n",
      "secuencia: gi|62462065|gb|AY952326.1| Synthetic construct beta-actin GFP expression vector, complete sequence\n",
      "longitud: 8085\n",
      "e value: 1.29882e-23\n",
      "ACCGCCGAGACCGCGTCCGCCCCGCGAGCACAGAGCCTCGCCTTTGCCGATCCGCCGCCCGTCCA...\n",
      "|||||||||||||||||||||||||||||||||||||||||||||||||||||||||||||||||...\n",
      "ACCGCCGAGACCGCGTCCGCCCCGCGAGCACAGAGCCTCGCCTTTGCCGATCCGCCGCCCGTCCA...\n",
      "****Alineamiento****\n",
      "secuencia: gi|34526902|dbj|AK130157.1| Homo sapiens cDNA FLJ26647 fis, clone MPE04710, highly similar to Actin, cytoplasmic 1\n",
      "longitud: 1805\n",
      "e value: 1.29882e-23\n",
      "ACCGCCGAGACCGCGTCCGCCCCGCGAGCACAGAGCCTCGCCTTTGCCGATCCGCCGCCCGTCCA...\n",
      "|||||||||||||||||||||||||||||||||||||||||||||||||||||||||||||||||...\n",
      "ACCGCCGAGACCGCGTCCGCCCCGCGAGCACAGAGCCTCGCCTTTGCCGATCCGCCGCCCGTCCA...\n",
      "****Alineamiento****\n",
      "secuencia: gi|34526800|dbj|AK130062.1| Homo sapiens cDNA FLJ26552 fis, clone LNF01613, highly similar to Actin, cytoplasmic 1\n",
      "longitud: 1806\n",
      "e value: 1.29882e-23\n",
      "ACCGCCGAGACCGCGTCCGCCCCGCGAGCACAGAGCCTCGCCTTTGCCGATCCGCCGCCCGTCCA...\n",
      "|||||||||||||||||||||||||||||||||||||||||||||||||||||||||||||||||...\n",
      "ACCGCCGAGACCGCGTCCGCCCCGCGAGCACAGAGCCTCGCCTTTGCCGATCCGCCGCCCGTCCA...\n",
      "****Alineamiento****\n",
      "secuencia: gi|21758861|dbj|AK098751.1| Homo sapiens cDNA FLJ25885 fis, clone CBR02968, highly similar to ACTIN, CYTOPLASMIC TYPE 5\n",
      "longitud: 1607\n",
      "e value: 1.29882e-23\n",
      "ACCGCCGAGACCGCGTCCGCCCCGCGAGCACAGAGCCTCGCCTTTGCCGATCCGCCGCCCGTCCA...\n",
      "|||||||||||||||||||||||||||||||||||||||||||||||||||||||||||||||||...\n",
      "ACCGCCGAGACCGCGTCCGCCCCGCGAGCACAGAGCCTCGCCTTTGCCGATCCGCCGCCCGTCCA...\n",
      "****Alineamiento****\n",
      "secuencia: gi|16554019|dbj|AK058019.1| Homo sapiens cDNA FLJ25290 fis, clone STM07156, highly similar to ACTIN, CYTOPLASMIC 1\n",
      "longitud: 1804\n",
      "e value: 1.29882e-23\n",
      "ACCGCCGAGACCGCGTCCGCCCCGCGAGCACAGAGCCTCGCCTTTGCCGATCCGCCGCCCGTCCA...\n",
      "|||||||||||||||||||||||||||||||||||||||||||||||||||||||||||||||||...\n",
      "ACCGCCGAGACCGCGTCCGCCCCGCGAGCACAGAGCCTCGCCTTTGCCGATCCGCCGCCCGTCCA...\n",
      "****Alineamiento****\n",
      "secuencia: gi|10437878|dbj|AK025375.1| Homo sapiens cDNA: FLJ21722 fis, clone COLF0522, highly similar to HSACTB Homo sapiens ACTB mRNA for mutant beta-actin (beta'-actin)\n",
      "longitud: 1872\n",
      "e value: 1.29882e-23\n",
      "ACCGCCGAGACCGCGTCCGCCCCGCGAGCACAGAGCCTCGCCTTTGCCGATCCGCCGCCCGTCCA...\n",
      "|||||||||||||||||||||||||||||||||||||||||||||||||||||||||||||||||...\n",
      "ACCGCCGAGACCGCGTCCGCCCCGCGAGCACAGAGCCTCGCCTTTGCCGATCCGCCGCCCGTCCA...\n",
      "****Alineamiento****\n",
      "secuencia: gi|461167|dbj|D28354.1|HUMBA13 Homo sapiens mRNA for beta-actin, 5'UTR region\n",
      "longitud: 90\n",
      "e value: 1.29882e-23\n",
      "ACCGCCGAGACCGCGTCCGCCCCGCGAGCACAGAGCCTCGCCTTTGCCGATCCGCCGCCCGTCCA...\n",
      "|||||||||||||||||||||||||||||||||||||||||||||||||||||||||||||||||...\n",
      "ACCGCCGAGACCGCGTCCGCCCCGCGAGCACAGAGCCTCGCCTTTGCCGATCCGCCGCCCGTCCA...\n",
      "****Alineamiento****\n",
      "secuencia: gi|1411092003|ref|XM_025401584.1| PREDICTED: Theropithecus gelada actin beta (ACTB), transcript variant X3, mRNA\n",
      "longitud: 2062\n",
      "e value: 6.72808e-21\n",
      "ACCGCCGAGACCGCGTCCGCCCCGCGAGCACAGAGCCTCGCCTTTGCCGATCCGCCGCCCGTCCA...\n",
      "||||||||||||||||||||||||||||||||||||||||||||||||| |||||||||||| ||...\n",
      "ACCGCCGAGACCGCGTCCGCCCCGCGAGCACAGAGCCTCGCCTTTGCCGCTCCGCCGCCCGTTCA...\n",
      "****Alineamiento****\n",
      "secuencia: gi|1220205639|ref|XM_003895688.3| PREDICTED: Papio anubis actin beta (ACTB), mRNA\n",
      "longitud: 2072\n",
      "e value: 6.72808e-21\n",
      "ACCGCCGAGACCGCGTCCGCCCCGCGAGCACAGAGCCTCGCCTTTGCCGATCCGCCGCCCGTCCA...\n",
      "||||||||||||||||||||||||||||||||||||||||||||||||| |||||||||||| ||...\n",
      "ACCGCCGAGACCGCGTCCGCCCCGCGAGCACAGAGCCTCGCCTTTGCCGCTCCGCCGCCCGTTCA...\n",
      "****Alineamiento****\n",
      "secuencia: gi|1212376053|ref|XM_012455575.2| PREDICTED: Aotus nancymaae actin beta (ACTB), mRNA\n",
      "longitud: 1911\n",
      "e value: 6.72808e-21\n",
      "ACCGCCGAGACCGCGTCCGCCCCGCGAGCACAGAGCCTCGCCTTTGCCGATCCGCCGCCCGTCCA...\n",
      "||||||||||||||||||||||||||||||||||||||||||||||||| |||| ||||||||||...\n",
      "ACCGCCGAGACCGCGTCCGCCCCGCGAGCACAGAGCCTCGCCTTTGCCGTTCCGTCGCCCGTCCA...\n",
      "****Alineamiento****\n",
      "secuencia: gi|1044368065|ref|XM_017533829.1| PREDICTED: Cebus capucinus imitator actin beta (ACTB), mRNA\n",
      "longitud: 1294\n",
      "e value: 6.72808e-21\n",
      "ACCGCCGAGACCGCGTCCGCCCCGCGAGCACAGAGCCTCGCCTTTGCCGATCCGCCGCCCGTCCA...\n",
      "||||||||||||||||||||||||||||||||||||||||||||||||| |||| ||||||||||...\n",
      "ACCGCCGAGACCGCGTCCGCCCCGCGAGCACAGAGCCTCGCCTTTGCCGTTCCGTCGCCCGTCCA...\n",
      "****Alineamiento****\n",
      "secuencia: gi|987976949|emb|LT160002.1| Macaca fascicularis complete genome, chromosome chr3\n",
      "longitud: 197221778\n",
      "e value: 6.72808e-21\n",
      "ACCGCCGAGACCGCGTCCGCCCCGCGAGCACAGAGCCTCGCCTTTGCCGATCCGCCGCCCGTCCA...\n",
      "||||||||||||||||||||||||||||||||||||||||||||||||| |||||||||||| ||...\n",
      "ACCGCCGAGACCGCGTCCGCCCCGCGAGCACAGAGCCTCGCCTTTGCCGCTCCGCCGCCCGTTCA...\n",
      "****Alineamiento****\n",
      "secuencia: gi|966926135|ref|XM_015130377.1| PREDICTED: Macaca mulatta actin, cytoplasmic 1-like (LOC100428865), mRNA\n",
      "longitud: 1489\n",
      "e value: 6.72808e-21\n",
      "ACCGCCGAGACCGCGTCCGCCCCGCGAGCACAGAGCCTCGCCTTTGCCGATCCGCCGCCCGTCCA...\n",
      "||||||||||||||||||||||||||||||||||||||||||||||||| |||||||||||| ||...\n",
      "ACCGCCGAGACCGCGTCCGCCCCGCGAGCACAGAGCCTCGCCTTTGCCGCTCCGCCGCCCGTTCA...\n",
      "****Alineamiento****\n",
      "secuencia: gi|817254404|ref|XM_012449836.1| PREDICTED: Aotus nancymaae actin (LOC105715452), mRNA\n",
      "longitud: 688\n",
      "e value: 6.72808e-21\n",
      "ACCGCCGAGACCGCGTCCGCCCCGCGAGCACAGAGCCTCGCCTTTGCCGATCCGCCGCCCGTCCA...\n",
      "||||||||||||||||||||||||||||||||||||||||||||||||| |||| ||||||||||...\n",
      "ACCGCCGAGACCGCGTCCGCCCCGCGAGCACAGAGCCTCGCCTTTGCCGTTCCGTCGCCCGTCCA...\n",
      "****Alineamiento****\n",
      "secuencia: gi|795401007|ref|XM_012087502.1| PREDICTED: Cercocebus atys actin, beta (ACTB), mRNA\n",
      "longitud: 1909\n",
      "e value: 6.72808e-21\n",
      "ACCGCCGAGACCGCGTCCGCCCCGCGAGCACAGAGCCTCGCCTTTGCCGATCCGCCGCCCGTCCA...\n",
      "||||||||||||||||||||||||||||||||||||||||||||||||| |||||||||||| ||...\n",
      "ACCGCCGAGACCGCGTCCGCCCCGCGAGCACAGAGCCTCGCCTTTGCCGCTCCGCCGCCCGTTCA...\n",
      "****Alineamiento****\n",
      "secuencia: gi|635140571|ref|XM_008018962.1| PREDICTED: Chlorocebus sabaeus actin-1 (LOC103246954), mRNA\n",
      "longitud: 635\n",
      "e value: 6.72808e-21\n",
      "ACCGCCGAGACCGCGTCCGCCCCGCGAGCACAGAGCCTCGCCTTTGCCGATCCGCCGCCCGTCCA...\n",
      "||||||||||||||||||||||||||||||||||||||||||||||||| |||||||||||| ||...\n",
      "ACCGCCGAGACCGCGTCCGCCCCGCGAGCACAGAGCCTCGCCTTTGCCGCTCCGCCGCCCGTTCA...\n",
      "****Alineamiento****\n",
      "secuencia: gi|548961740|ref|NM_001285025.1| Macaca fascicularis actin beta (ACTB), mRNA >gi|90075547|dbj|AB170391.1| Macaca fascicularis brain cDNA clone: QmoA-10647, similar to human actin, beta (ACTB), mRNA, RefSeq: NM_001101.2\n",
      "longitud: 1729\n",
      "e value: 6.72808e-21\n",
      "ACCGCCGAGACCGCGTCCGCCCCGCGAGCACAGAGCCTCGCCTTTGCCGATCCGCCGCCCGTCCA...\n",
      "||||||||||||||||||||||||||||||||||||||||||||||||| |||||||||||| ||...\n",
      "ACCGCCGAGACCGCGTCCGCCCCGCGAGCACAGAGCCTCGCCTTTGCCGCTCCGCCGCCCGTTCA...\n",
      "****Alineamiento****\n",
      "secuencia: gi|67970843|dbj|AB169683.1| Macaca fascicularis brain cDNA, clone: QccE-17788, similar to human actin, beta (ACTB), mRNA, RefSeq: NM_001101.2\n",
      "longitud: 1934\n",
      "e value: 6.72808e-21\n",
      "ACCGCCGAGACCGCGTCCGCCCCGCGAGCACAGAGCCTCGCCTTTGCCGATCCGCCGCCCGTCCA...\n",
      "||||||||||||||||||||||||||||||||||||||||||||||||| |||||||||||| ||...\n",
      "ACCGCCGAGACCGCGTCCGCCCCGCGAGCACAGAGCCTCGCCTTTGCCGCTCCGCCGCCCGTTCA...\n",
      "****Alineamiento****\n",
      "secuencia: gi|177967|gb|M10277.1|HUMACCYBB Human cytoplasmic beta-actin gene, complete cds\n",
      "longitud: 3646\n",
      "e value: 6.72808e-21\n",
      "ACCGCCGAGACCGCGTCCGCCCCGCGAGCACAGAGCCTCGCCTTTGCCGATCCGCCGCCCGTCCA...\n",
      "|||||||||||||||||||||| ||||||||||||||||||||||||||||||||||||||||||...\n",
      "ACCGCCGAGACCGCGTCCGCCC-GCGAGCACAGAGCCTCGCCTTTGCCGATCCGCCGCCCGTCCA...\n",
      "****Alineamiento****\n",
      "secuencia: gi|1057503281|ref|NG_051434.1| Chlorocebus sabaeus actin, cytoplasmic 1 (LOC103219323) pseudogene on chromosome 12\n",
      "longitud: 2016\n",
      "e value: 2.34833e-20\n",
      "CCGCCGAGACCGCGTCCGCCCCGCGAGCACAGAGCCTCGCCTTTGCCGATCCGCCGCCCGTCCA...\n",
      "|||||||||||||||||||||||||||||||||||||||||||||||| |||||||||||| ||...\n",
      "CCGCCGAGACCGCGTCCGCCCCGCGAGCACAGAGCCTCGCCTTTGCCGCTCCGCCGCCCGTTCA...\n",
      "****Alineamiento****\n",
      "secuencia: gi|675710351|ref|XM_008963291.1| PREDICTED: Pan paniscus actin, cytoplasmic 1 (LOC100990579), mRNA\n",
      "longitud: 1298\n",
      "e value: 2.34833e-20\n",
      "GCCGAGACCGCGTCCGCCCCGCGAGCACAGAGCCTCGCCTTTGCCGATCCGCCGCCCGTCCA...\n",
      "|||||||||||||||||||||||||||||||||||||||||||| |||||||||||||||||...\n",
      "GCCGAGACCGCGTCCGCCCCGCGAGCACAGAGCCTCGCCTTTGCTGATCCGCCGCCCGTCCA...\n",
      "****Alineamiento****\n",
      "secuencia: gi|1411074911|ref|XM_025365515.1| PREDICTED: Theropithecus gelada actin, cytoplasmic 1 (LOC112611351), transcript variant X6, mRNA\n",
      "longitud: 1629\n",
      "e value: 2.86085e-19\n",
      "ACCGCCGAGACCGCGTCCGCCCCGCGAGCACAGAGCCTCGCCTTTGCCGATCCGCCGCCCGTCCA...\n",
      "|||||||||||||||||||||||||||||||||||||| |||||||||| |||||||||||| ||...\n",
      "ACCGCCGAGACCGCGTCCGCCCCGCGAGCACAGAGCCTTGCCTTTGCCGCTCCGCCGCCCGTTCA...\n",
      "****Alineamiento****\n",
      "secuencia: gi|1411074907|ref|XM_025365355.1| PREDICTED: Theropithecus gelada actin, cytoplasmic 1 (LOC112611351), transcript variant X4, mRNA\n",
      "longitud: 1770\n",
      "e value: 2.86085e-19\n",
      "ACCGCCGAGACCGCGTCCGCCCCGCGAGCACAGAGCCTCGCCTTTGCCGATCCGCCGCCCGTCCA...\n",
      "|||||||||||||||||||||||||||||||||||||| |||||||||| |||||||||||| ||...\n",
      "ACCGCCGAGACCGCGTCCGCCCCGCGAGCACAGAGCCTTGCCTTTGCCGCTCCGCCGCCCGTTCA...\n",
      "****Alineamiento****\n",
      "secuencia: gi|1411074905|ref|XM_025365262.1| PREDICTED: Theropithecus gelada actin, cytoplasmic 1 (LOC112611351), transcript variant X3, mRNA\n",
      "longitud: 1827\n",
      "e value: 2.86085e-19\n",
      "ACCGCCGAGACCGCGTCCGCCCCGCGAGCACAGAGCCTCGCCTTTGCCGATCCGCCGCCCGTCCA...\n",
      "|||||||||||||||||||||||||||||||||||||| |||||||||| |||||||||||| ||...\n",
      "ACCGCCGAGACCGCGTCCGCCCCGCGAGCACAGAGCCTTGCCTTTGCCGCTCCGCCGCCCGTTCA...\n",
      "****Alineamiento****\n",
      "secuencia: gi|1411074901|ref|XM_025365098.1| PREDICTED: Theropithecus gelada actin, cytoplasmic 1 (LOC112611351), transcript variant X1, mRNA\n",
      "longitud: 1245\n",
      "e value: 2.86085e-19\n",
      "ACCGCCGAGACCGCGTCCGCCCCGCGAGCACAGAGCCTCGCCTTTGCCGATCCGCCGCCCGTCCA...\n",
      "|||||||||||||||||||||||||||||||||||||| |||||||||| |||||||||||| ||...\n",
      "ACCGCCGAGACCGCGTCCGCCCCGCGAGCACAGAGCCTTGCCTTTGCCGCTCCGCCGCCCGTTCA...\n",
      "****Alineamiento****\n",
      "secuencia: gi|1381464654|ref|XM_011768366.2| PREDICTED: Macaca nemestrina actin beta (ACTB), mRNA\n",
      "longitud: 1909\n",
      "e value: 2.86085e-19\n",
      "ACCGCCGAGACCGCGTCCGCCCCGCGAGCACAGAGCCTCGCCTTTGCCGATCCGCCGCCCGTCCA...\n",
      "|||||||||||||||||||||||||||||||||||||| |||||||||| |||||||||||| ||...\n",
      "ACCGCCGAGACCGCGTCCGCCCCGCGAGCACAGAGCCTTGCCTTTGCCGCTCCGCCGCCCGTTCA...\n",
      "****Alineamiento****\n",
      "secuencia: gi|1297776916|ref|XM_023197872.1| PREDICTED: Piliocolobus tephrosceles actin beta (ACTB), mRNA\n",
      "longitud: 1912\n",
      "e value: 2.86085e-19\n",
      "ACCGCCGAGACCGCGTCCGCCCCGCGAGCACAGAGCCTCGCCTTTGCCGATCCGCCGCCCGTCCA...\n",
      "|||||||||||||||||||||||||||||||||||||||||||| |||| |||||||||||| ||...\n",
      "ACCGCCGAGACCGCGTCCGCCCCGCGAGCACAGAGCCTCGCCTTCGCCGCTCCGCCGCCCGTTCA...\n",
      "****Alineamiento****\n",
      "secuencia: gi|1297671017|ref|XM_023217565.1| PREDICTED: Piliocolobus tephrosceles actin, cytoplasmic 1-like (LOC111546247), mRNA\n",
      "longitud: 1816\n",
      "e value: 2.86085e-19\n",
      "ACCGCCGAGACCGCGTCCGCCCCGCGAGCACAGAGCCTCGCCTTTGCCGATCCGCCGCCCGTCCA...\n",
      "|||||||||||||||||||||||||||||||||||||||||||| |||| |||||||||||| ||...\n",
      "ACCGCCGAGACCGCGTCCGCCCCGCGAGCACAGAGCCTCGCCTTCGCCGCTCCGCCGCCCGTTCA...\n",
      "****Alineamiento****\n",
      "secuencia: gi|197099681|ref|NM_001133354.1| Pongo abelii actin beta (ACTB), mRNA >gi|55732772|emb|CR860982.1| Pongo abelii mRNA; cDNA DKFZp459A196 (from clone DKFZp459A196)\n",
      "longitud: 1844\n",
      "e value: 2.86085e-19\n",
      "ACCGCCGAGACCGCGTCCGCCCCGCGAGCACAGAGCCTCGCCTTTGCCGATCCGCCGCCCGTCCA...\n",
      "|||||||||||||||||||||||||||||||||| |||||||||||||| ||| |||||||||||...\n",
      "ACCGCCGAGACCGCGTCCGCCCCGCGAGCACAGACCCTCGCCTTTGCCGCTCCACCGCCCGTCCA...\n",
      "****Alineamiento****\n",
      "secuencia: gi|55731893|emb|CR860530.1| Pongo abelii mRNA; cDNA DKFZp459A127 (from clone DKFZp459A127)\n",
      "longitud: 1833\n",
      "e value: 2.86085e-19\n",
      "ACCGCCGAGACCGCGTCCGCCCCGCGAGCACAGAGCCTCGCCTTTGCCGATCCGCCGCCCGTCCA...\n",
      "|||||||||||||||||||||||||||||||||| |||||||||||||| ||| |||||||||||...\n",
      "ACCGCCGAGACCGCGTCCGCCCCGCGAGCACAGACCCTCGCCTTTGCCGCTCCACCGCCCGTCCA...\n",
      "****Alineamiento****\n",
      "secuencia: gi|15680122|gb|BC014401.1| Homo sapiens cDNA clone IMAGE:3504279, containing frame-shift errors\n",
      "longitud: 1812\n",
      "e value: 2.86085e-19\n",
      "GACCGCGTCCGCCCCGCGAGCACAGAGCCTCGCCTTTGCCGATCCGCCGCCCGTCCA...\n",
      "|||||||||||||||||||||||||||||||||||||||||||||||||||||||||...\n",
      "GACCGCGTCCGCCCCGCGAGCACAGAGCCTCGCCTTTGCCGATCCGCCGCCCGTCCA...\n",
      "****Alineamiento****\n",
      "secuencia: gi|1411092005|ref|XM_025401585.1| PREDICTED: Theropithecus gelada actin beta (ACTB), transcript variant X4, mRNA\n",
      "longitud: 1758\n",
      "e value: 9.98535e-19\n",
      "CCGAGACCGCGTCCGCCCCGCGAGCACAGAGCCTCGCCTTTGCCGATCCGCCGCCCGTCCA...\n",
      "||||||||||||||||||||||||||||||||||||||||||||| |||||||||||| ||...\n",
      "CCGAGACCGCGTCCGCCCCGCGAGCACAGAGCCTCGCCTTTGCCGCTCCGCCGCCCGTTCA...\n",
      "****Alineamiento****\n",
      "secuencia: gi|1411075513|ref|XR_003118161.1| PREDICTED: Theropithecus gelada actin, cytoplasmic 1-like (LOC112619049), misc_RNA\n",
      "longitud: 1687\n",
      "e value: 9.98535e-19\n",
      "CCGAGACCGCGTCCGCCCCGCGAGCACAGAGCCTCGCCTTTGCCGATCCGCCGCCCGTCCA...\n",
      "||||||||||||||||||||||||||||||||||||||||||||| |||||||||||| ||...\n",
      "CCGAGACCGCGTCCGCCCCGCGAGCACAGAGCCTCGCCTTTGCCGCTCCGCCGCCCGTTCA...\n",
      "****Alineamiento****\n",
      "secuencia: gi|33878222|gb|BC013380.2| Homo sapiens actin, beta, mRNA (cDNA clone MGC:16525 IMAGE:4025526), complete cds\n",
      "longitud: 1820\n",
      "e value: 9.98535e-19\n",
      "ACCGCGTCCGCCCCGCGAGCACAGAGCCTCGCCTTTGCCGATCCGCCGCCCGTCCA...\n",
      "||||||||||||||||||||||||||||||||||||||||||||||||||||||||...\n",
      "ACCGCGTCCGCCCCGCGAGCACAGAGCCTCGCCTTTGCCGATCCGCCGCCCGTCCA...\n"
     ]
    }
   ],
   "source": [
    "print('1')\n",
    "for b in blast_records:\n",
    "    for alignment in b.alignments:\n",
    "        for hsp in alignment.hsps:\n",
    "            print('****Alineamiento****')\n",
    "            print('secuencia:', alignment.title)\n",
    "            print('longitud:', alignment.length)\n",
    "            print('e value:', hsp.expect)\n",
    "            print(hsp.query[0:75] + '...')\n",
    "            print(hsp.match[0:75] + '...')\n",
    "            print(hsp.sbjct[0:75] + '...')"
   ]
  },
  {
   "cell_type": "markdown",
   "metadata": {},
   "source": [
    "# `SeqRecord` y `SeqIO`\n",
    "\n",
    "Frecuentemente,las secuiencias tienen alguna informacion adicional asociadas a ellas. \n",
    "\n",
    "Un buen ejemplo fue el ejercicio BLAST que nos dio secuencias asociadas a organismos especificos, y locaciones genomicas.\n",
    "\n",
    "Generalmente se necesitará guardar esta informacion junto con nuestra secuencia de origen `Seq` .\n",
    "\n",
    "BioPython permite hacer esto con las clases `SeqRecord` and `SeqIO`.\n",
    "\n",
    "\n",
    "##  Haciendo Parsing con `SeqIO`\n",
    "\n",
    "La clase  `SeqIO` que significa: Sequence Input/Output nos permite leer y escribir de diferentes formatos de archivos de anotacion de secuencias que soin comunes en las bases de datos biologicas.\n",
    "\n",
    "P.Ej. en la base de datos  de secuencias [GenBank](https://www.ncbi.nlm.nih.gov/genbank/) se puede buscar una secuencia relacionada a la plaga de la Peste Bubonica (Yersinia Pestis bacteria) [here](https://www.ncbi.nlm.nih.gov/nuccore/NZ_ADRZ01000932.1?report=fasta).\n",
    "\n",
    "![](https://www.nationalgeographic.com/content/dam/science/photos/000/033/3338.ngsversion.1492437604403.adapt.676.1.jpg)\n",
    "(\"The Triumph of Death by  Pieter Bruegel)\n",
    "\n",
    "Tendremos un archivo  `fasta` y BioPython puede reconocerlo (hacer parsing) automaticamente.\n",
    "\n",
    "La anotacion de una secuencia FASTA se encuentra en la cabecera:\n",
    "\n",
    "```\n",
    ">NZ_ADRZ01000932.1 Yersinia pestis biovar Antiqua str. E1979001 Contig_E1979001_19275, whole genome shotgun sequence\n",
    "```\n",
    "\n",
    "El método `SeqIO.parse` recibe la ruta a un archivo  y su formato, en este caso \"fasta\" y produce un iteratror sobre cada item en archivo fasta.\n",
    "\n",
    "Cada item producido por el iterator es un objeto tipo `SeqRecords`.\n"
   ]
  },
  {
   "cell_type": "code",
   "execution_count": 34,
   "metadata": {},
   "outputs": [
    {
     "name": "stdout",
     "output_type": "stream",
     "text": [
      "<class 'Bio.SeqRecord.SeqRecord'>\n",
      "['annotations', 'dbxrefs', 'description', 'features', 'format', 'id', 'letter_annotations', 'lower', 'name', 'reverse_complement', 'seq', 'translate', 'upper']\n"
     ]
    }
   ],
   "source": [
    "from Bio import SeqIO\n",
    "\n",
    "records = SeqIO.parse(\"plague.fa\", \"fasta\")\n",
    "for r in records:\n",
    "    print(type(r))\n",
    "    print([a for a in dir(r) if not a.startswith(\"_\")])"
   ]
  },
  {
   "cell_type": "markdown",
   "metadata": {},
   "source": [
    "### Objetos `SeqRecord` \n",
    "\n",
    "Si usted tiene un archivo con solo un registro tipo fasta, puede usar la funcion `SeqIO.read()`.\n"
   ]
  },
  {
   "cell_type": "code",
   "execution_count": 35,
   "metadata": {},
   "outputs": [],
   "source": [
    "record = SeqIO.read(\"single_plague.fa\", \"fasta\")"
   ]
  },
  {
   "cell_type": "markdown",
   "metadata": {},
   "source": [
    "El objeto `SeqRecords` tiene algunos atributos interesantes.\n",
    "\n",
    "Contiene un objeto tipo  `Seq`con información de la secuencia."
   ]
  },
  {
   "cell_type": "code",
   "execution_count": 36,
   "metadata": {},
   "outputs": [
    {
     "name": "stdout",
     "output_type": "stream",
     "text": [
      "ID: NZ_ADRZ01000932.1\n",
      "Name: NZ_ADRZ01000932.1\n",
      "Description: NZ_ADRZ01000932.1 Yersinia pestis biovar Antiqua str. E1979001 Contig_E1979001_19275, whole genome shotgun sequence\n",
      "Number of features: 0\n",
      "Seq('CTCTCCCAGCTGAGCTATAGCCCCAATGCGCACATAATAAATCGTGTGAACGGG...AGC', SingleLetterAlphabet())\n"
     ]
    }
   ],
   "source": [
    "print(record)"
   ]
  },
  {
   "cell_type": "code",
   "execution_count": 37,
   "metadata": {},
   "outputs": [
    {
     "name": "stdout",
     "output_type": "stream",
     "text": [
      "CTCTCCCAGCTGAGCTATAGCCCCAATGCGCACATAATAAATCGTGTGAACGGGGCGCATGATATGAGACCCCCGAAACTGTGTCAACGGCTAAATCGATTTCTCGTGTTAAGCGCTGAAAAAGCGGCCAAATCAGCCTGCAAATAACATAATAAGTGGAATGATGTTCACAAATTTGTTGTCACACCGCTGCTGTTATCAAATATAATAAATATCCTCCGGCATAGC\n"
     ]
    }
   ],
   "source": [
    "print(record.seq)"
   ]
  },
  {
   "cell_type": "code",
   "execution_count": 38,
   "metadata": {},
   "outputs": [
    {
     "name": "stdout",
     "output_type": "stream",
     "text": [
      "NZ_ADRZ01000932.1\n"
     ]
    }
   ],
   "source": [
    "print(record.id)"
   ]
  },
  {
   "cell_type": "code",
   "execution_count": 39,
   "metadata": {},
   "outputs": [
    {
     "name": "stdout",
     "output_type": "stream",
     "text": [
      "NZ_ADRZ01000932.1 Yersinia pestis biovar Antiqua str. E1979001 Contig_E1979001_19275, whole genome shotgun sequence\n"
     ]
    }
   ],
   "source": [
    "print(record.description)"
   ]
  },
  {
   "cell_type": "markdown",
   "metadata": {},
   "source": [
    "Tambien podemos crear nuestros propios objetos tipo `SeqRecord`."
   ]
  },
  {
   "cell_type": "code",
   "execution_count": 40,
   "metadata": {},
   "outputs": [
    {
     "name": "stdout",
     "output_type": "stream",
     "text": [
      "ID: YP_025292.1\n",
      "Name: HokC\n",
      "Description: toxic membrane protein, small\n",
      "Number of features: 0\n",
      "Seq('MKQHKAMIVALIVICITAVVAALVTRKDLCEVHIRTGQTEVAVF', IUPACProtein())\n"
     ]
    }
   ],
   "source": [
    "from Bio.Seq import Seq\n",
    "from Bio.SeqRecord import SeqRecord\n",
    "from Bio.Alphabet import IUPAC\n",
    "record = SeqRecord(Seq(\"MKQHKAMIVALIVICITAVVAALVTRKDLCEVHIRTGQTEVAVF\",\n",
    "                       IUPAC.protein),\n",
    "                   id=\"YP_025292.1\", name=\"HokC\",\n",
    "                   description=\"toxic membrane protein, small\")\n",
    "print(record)"
   ]
  },
  {
   "cell_type": "markdown",
   "metadata": {},
   "source": [
    "Despues, lo podemos escribir en formato FASTA."
   ]
  },
  {
   "cell_type": "code",
   "execution_count": 36,
   "metadata": {},
   "outputs": [
    {
     "data": {
      "text/plain": [
       "'>YP_025292.1 toxic membrane protein, small\\nMKQHKAMIVALIVICITAVVAALVTRKDLCEVHIRTGQTEVAVF\\n'"
      ]
     },
     "execution_count": 36,
     "metadata": {},
     "output_type": "execute_result"
    }
   ],
   "source": [
    "record.format(\"fasta\")"
   ]
  },
  {
   "cell_type": "markdown",
   "metadata": {},
   "source": [
    "Y despues guardarlo en un archivo. \n",
    "\n",
    "Entonces ya sabemos como leer información de secuencias y tambien producir nuestros propios registros de secuencias y guardarlos"
   ]
  },
  {
   "cell_type": "code",
   "execution_count": 37,
   "metadata": {},
   "outputs": [],
   "source": [
    "with open(\"myfasta.fa\", \"w\") as f:\n",
    "    f.write(record.format(\"fasta\"))\n",
    "    "
   ]
  },
  {
   "cell_type": "markdown",
   "metadata": {},
   "source": [
    "### Trabajando con formatos  `EMBL ó Genbank`\n",
    "La mayoria de las veces los archivos GenBank contienen un solo record para un cromosoma o plasmido. asi que usaremos la funcion SeqIO.read(...) sabiendo que el segundo argumento de esta funcion es el formato del archivo..."
   ]
  },
  {
   "cell_type": "code",
   "execution_count": 2,
   "metadata": {},
   "outputs": [
    {
     "ename": "IOError",
     "evalue": "[Errno 2] No such file or directory: 'NC_000913.gbk'",
     "output_type": "error",
     "traceback": [
      "\u001b[0;31m---------------------------------------------------------------------------\u001b[0m",
      "\u001b[0;31mIOError\u001b[0m                                   Traceback (most recent call last)",
      "\u001b[0;32m<ipython-input-2-8b787b83af22>\u001b[0m in \u001b[0;36m<module>\u001b[0;34m()\u001b[0m\n\u001b[1;32m      1\u001b[0m \u001b[0;32mfrom\u001b[0m \u001b[0mBio\u001b[0m \u001b[0;32mimport\u001b[0m \u001b[0mSeqIO\u001b[0m\u001b[0;34m\u001b[0m\u001b[0m\n\u001b[0;32m----> 2\u001b[0;31m \u001b[0mrecord\u001b[0m\u001b[0;34m=\u001b[0m\u001b[0mSeqIO\u001b[0m\u001b[0;34m.\u001b[0m\u001b[0mread\u001b[0m\u001b[0;34m(\u001b[0m\u001b[0;34m\"NC_000913.gbk\"\u001b[0m\u001b[0;34m,\u001b[0m \u001b[0;34m\"genbank\"\u001b[0m\u001b[0;34m)\u001b[0m\u001b[0;34m\u001b[0m\u001b[0m\n\u001b[0m\u001b[1;32m      3\u001b[0m \u001b[0;32mprint\u001b[0m\u001b[0;34m(\u001b[0m\u001b[0mrecord\u001b[0m\u001b[0;34m.\u001b[0m\u001b[0mid\u001b[0m\u001b[0;34m)\u001b[0m\u001b[0;34m\u001b[0m\u001b[0m\n\u001b[1;32m      4\u001b[0m \u001b[0;32mprint\u001b[0m\u001b[0;34m(\u001b[0m\u001b[0mlen\u001b[0m\u001b[0;34m(\u001b[0m\u001b[0mrecord\u001b[0m\u001b[0;34m)\u001b[0m\u001b[0;34m)\u001b[0m\u001b[0;34m\u001b[0m\u001b[0m\n\u001b[1;32m      5\u001b[0m \u001b[0;32mprint\u001b[0m\u001b[0;34m(\u001b[0m\u001b[0mlen\u001b[0m\u001b[0;34m(\u001b[0m\u001b[0mrecord\u001b[0m\u001b[0;34m.\u001b[0m\u001b[0mfeatures\u001b[0m\u001b[0;34m)\u001b[0m\u001b[0;34m)\u001b[0m\u001b[0;34m\u001b[0m\u001b[0m\n",
      "\u001b[0;32m/usr/lib/python2.7/dist-packages/Bio/SeqIO/__init__.pyc\u001b[0m in \u001b[0;36mread\u001b[0;34m(handle, format, alphabet)\u001b[0m\n\u001b[1;32m    718\u001b[0m     \u001b[0miterator\u001b[0m \u001b[0;34m=\u001b[0m \u001b[0mparse\u001b[0m\u001b[0;34m(\u001b[0m\u001b[0mhandle\u001b[0m\u001b[0;34m,\u001b[0m \u001b[0mformat\u001b[0m\u001b[0;34m,\u001b[0m \u001b[0malphabet\u001b[0m\u001b[0;34m)\u001b[0m\u001b[0;34m\u001b[0m\u001b[0m\n\u001b[1;32m    719\u001b[0m     \u001b[0;32mtry\u001b[0m\u001b[0;34m:\u001b[0m\u001b[0;34m\u001b[0m\u001b[0m\n\u001b[0;32m--> 720\u001b[0;31m         \u001b[0mfirst\u001b[0m \u001b[0;34m=\u001b[0m \u001b[0mnext\u001b[0m\u001b[0;34m(\u001b[0m\u001b[0miterator\u001b[0m\u001b[0;34m)\u001b[0m\u001b[0;34m\u001b[0m\u001b[0m\n\u001b[0m\u001b[1;32m    721\u001b[0m     \u001b[0;32mexcept\u001b[0m \u001b[0mStopIteration\u001b[0m\u001b[0;34m:\u001b[0m\u001b[0;34m\u001b[0m\u001b[0m\n\u001b[1;32m    722\u001b[0m         \u001b[0mfirst\u001b[0m \u001b[0;34m=\u001b[0m \u001b[0mNone\u001b[0m\u001b[0;34m\u001b[0m\u001b[0m\n",
      "\u001b[0;32m/usr/lib/python2.7/dist-packages/Bio/SeqIO/__init__.pyc\u001b[0m in \u001b[0;36mparse\u001b[0;34m(handle, format, alphabet)\u001b[0m\n\u001b[1;32m    634\u001b[0m         \u001b[0;32mraise\u001b[0m \u001b[0mValueError\u001b[0m\u001b[0;34m(\u001b[0m\u001b[0;34m\"Invalid alphabet, %r\"\u001b[0m \u001b[0;34m%\u001b[0m \u001b[0malphabet\u001b[0m\u001b[0;34m)\u001b[0m\u001b[0;34m\u001b[0m\u001b[0m\n\u001b[1;32m    635\u001b[0m \u001b[0;34m\u001b[0m\u001b[0m\n\u001b[0;32m--> 636\u001b[0;31m     \u001b[0;32mwith\u001b[0m \u001b[0mas_handle\u001b[0m\u001b[0;34m(\u001b[0m\u001b[0mhandle\u001b[0m\u001b[0;34m,\u001b[0m \u001b[0mmode\u001b[0m\u001b[0;34m)\u001b[0m \u001b[0;32mas\u001b[0m \u001b[0mfp\u001b[0m\u001b[0;34m:\u001b[0m\u001b[0;34m\u001b[0m\u001b[0m\n\u001b[0m\u001b[1;32m    637\u001b[0m         \u001b[0;31m# Map the file format to a sequence iterator:\u001b[0m\u001b[0;34m\u001b[0m\u001b[0;34m\u001b[0m\u001b[0m\n\u001b[1;32m    638\u001b[0m         \u001b[0;32mif\u001b[0m \u001b[0mformat\u001b[0m \u001b[0;32min\u001b[0m \u001b[0m_FormatToIterator\u001b[0m\u001b[0;34m:\u001b[0m\u001b[0;34m\u001b[0m\u001b[0m\n",
      "\u001b[0;32m/usr/lib/python2.7/contextlib.pyc\u001b[0m in \u001b[0;36m__enter__\u001b[0;34m(self)\u001b[0m\n\u001b[1;32m     15\u001b[0m     \u001b[0;32mdef\u001b[0m \u001b[0m__enter__\u001b[0m\u001b[0;34m(\u001b[0m\u001b[0mself\u001b[0m\u001b[0;34m)\u001b[0m\u001b[0;34m:\u001b[0m\u001b[0;34m\u001b[0m\u001b[0m\n\u001b[1;32m     16\u001b[0m         \u001b[0;32mtry\u001b[0m\u001b[0;34m:\u001b[0m\u001b[0;34m\u001b[0m\u001b[0m\n\u001b[0;32m---> 17\u001b[0;31m             \u001b[0;32mreturn\u001b[0m \u001b[0mself\u001b[0m\u001b[0;34m.\u001b[0m\u001b[0mgen\u001b[0m\u001b[0;34m.\u001b[0m\u001b[0mnext\u001b[0m\u001b[0;34m(\u001b[0m\u001b[0;34m)\u001b[0m\u001b[0;34m\u001b[0m\u001b[0m\n\u001b[0m\u001b[1;32m     18\u001b[0m         \u001b[0;32mexcept\u001b[0m \u001b[0mStopIteration\u001b[0m\u001b[0;34m:\u001b[0m\u001b[0;34m\u001b[0m\u001b[0m\n\u001b[1;32m     19\u001b[0m             \u001b[0;32mraise\u001b[0m \u001b[0mRuntimeError\u001b[0m\u001b[0;34m(\u001b[0m\u001b[0;34m\"generator didn't yield\"\u001b[0m\u001b[0;34m)\u001b[0m\u001b[0;34m\u001b[0m\u001b[0m\n",
      "\u001b[0;32m/usr/lib/python2.7/dist-packages/Bio/File.pyc\u001b[0m in \u001b[0;36mas_handle\u001b[0;34m(handleish, mode, **kwargs)\u001b[0m\n\u001b[1;32m    111\u001b[0m                 \u001b[0;32myield\u001b[0m \u001b[0mfp\u001b[0m\u001b[0;34m\u001b[0m\u001b[0m\n\u001b[1;32m    112\u001b[0m         \u001b[0;32melse\u001b[0m\u001b[0;34m:\u001b[0m\u001b[0;34m\u001b[0m\u001b[0m\n\u001b[0;32m--> 113\u001b[0;31m             \u001b[0;32mwith\u001b[0m \u001b[0mopen\u001b[0m\u001b[0;34m(\u001b[0m\u001b[0mhandleish\u001b[0m\u001b[0;34m,\u001b[0m \u001b[0mmode\u001b[0m\u001b[0;34m,\u001b[0m \u001b[0;34m**\u001b[0m\u001b[0mkwargs\u001b[0m\u001b[0;34m)\u001b[0m \u001b[0;32mas\u001b[0m \u001b[0mfp\u001b[0m\u001b[0;34m:\u001b[0m\u001b[0;34m\u001b[0m\u001b[0m\n\u001b[0m\u001b[1;32m    114\u001b[0m                 \u001b[0;32myield\u001b[0m \u001b[0mfp\u001b[0m\u001b[0;34m\u001b[0m\u001b[0m\n\u001b[1;32m    115\u001b[0m     \u001b[0;32melse\u001b[0m\u001b[0;34m:\u001b[0m\u001b[0;34m\u001b[0m\u001b[0m\n",
      "\u001b[0;31mIOError\u001b[0m: [Errno 2] No such file or directory: 'NC_000913.gbk'"
     ]
    }
   ],
   "source": [
    "from Bio import SeqIO\n",
    "record=SeqIO.read(\"NC_000913.gbk\", \"genbank\")\n",
    "print(record.id)\n",
    "print(len(record))\n",
    "print(len(a))"
   ]
  },
  {
   "cell_type": "markdown",
   "metadata": {},
   "source": [
    "Que son las .features ? -Es una lista Python que contiene un objeto Biopython tipo SeqFeature para \n",
    "cada característica (feature) en el archivo GenBank.\n",
    "Por ejemplo,"
   ]
  },
  {
   "cell_type": "code",
   "execution_count": null,
   "metadata": {},
   "outputs": [],
   "source": [
    "my_gene = record.features[3]\n",
    "print(my_gene)"
   ]
  },
  {
   "cell_type": "markdown",
   "metadata": {},
   "source": [
    "Hacer una impresión como esta intenta dar una pantalla legible. Hay tres propiedades clave, .type que es una cadena como el gen o CDS, .location que describe en qué parte del genoma está esta característica, y .qualifiers que es un diccionario de Python lleno de todas las anotaciones de la característica (p.ej. identificadores de genes ).\n",
    "\n",
    "Asi es como se ve un gene en formato GenBank\n",
    "\n",
    "gene            337..2799\n",
    "                /gene=\"thrA\"\n",
    "                /locus_tag=\"b0002\"\n",
    "                /gene_synonym=\"ECK0002; Hs; JW0001; thrA1; thrA2; thrD\"\n",
    "                /db_xref=\"EcoGene:EG10998\"\n",
    "                /db_xref=\"GeneID:945803\""
   ]
  },
  {
   "cell_type": "markdown",
   "metadata": {},
   "source": [
    "### Locaciones de las caracteristicas - Feature Locations\n",
    "Continuamos con el mismo ejemplo\n"
   ]
  },
  {
   "cell_type": "code",
   "execution_count": null,
   "metadata": {},
   "outputs": [],
   "source": [
    "print(my_gene.qualifiers[\"locus_tag\"])\n",
    "print(my_gene.location)\n",
    "print(my_gene.location.start)\n",
    "print(my_gene.location.end)\n",
    "print(my_gene.location.strand)"
   ]
  },
  {
   "cell_type": "markdown",
   "metadata": {},
   "source": [
    "Recuerde que en el archivo GenBank esta ubicación simple era 337..2799, pero en Biopython se ha convertido en un valor inicial de 336 y 2799 como final. La razón de esto es para que coincida con cómo funciona el conteo de Python, en particular, cómo se corta la cadena de Python. Para extraer esta secuencia del genoma completo necesitamos usar valores de división de 336 y 2799:\n",
    "\n",
    "Esta era una ubicación muy simple en la hebra principal  si hubiera estado en la hebra inversa necesitaría tomar el complemento inverso. Además, si la ubicación hubiera sido una ubicación compuesta más complicada como una unión (utilizada para genes eucarióticos donde el CDS está formado por varios exones), la ubicación tendría que considerar algunas partes secundarias.\n",
    "\n",
    "Todas estas complicaciones son atendidas por usted a través del método .extract (...) que toma la secuencia completa del registro padre como un argumento:"
   ]
  },
  {
   "cell_type": "code",
   "execution_count": 1,
   "metadata": {},
   "outputs": [
    {
     "ename": "NameError",
     "evalue": "name 'my_gene' is not defined",
     "output_type": "error",
     "traceback": [
      "\u001b[0;31m---------------------------------------------------------------------------\u001b[0m",
      "\u001b[0;31mNameError\u001b[0m                                 Traceback (most recent call last)",
      "\u001b[0;32m<ipython-input-1-c58609a80bf4>\u001b[0m in \u001b[0;36m<module>\u001b[0;34m()\u001b[0m\n\u001b[0;32m----> 1\u001b[0;31m \u001b[0mgene_seq\u001b[0m \u001b[0;34m=\u001b[0m \u001b[0mmy_gene\u001b[0m\u001b[0;34m.\u001b[0m\u001b[0mextract\u001b[0m\u001b[0;34m(\u001b[0m\u001b[0mrecord\u001b[0m\u001b[0;34m.\u001b[0m\u001b[0mseq\u001b[0m\u001b[0;34m)\u001b[0m\u001b[0;34m\u001b[0m\u001b[0m\n\u001b[0m\u001b[1;32m      2\u001b[0m \u001b[0mlen\u001b[0m\u001b[0;34m(\u001b[0m\u001b[0mgene_seq\u001b[0m\u001b[0;34m)\u001b[0m\u001b[0;34m\u001b[0m\u001b[0m\n\u001b[1;32m      3\u001b[0m \u001b[0;32mprint\u001b[0m\u001b[0;34m(\u001b[0m\u001b[0mgene_seq\u001b[0m\u001b[0;34m)\u001b[0m\u001b[0;34m\u001b[0m\u001b[0m\n",
      "\u001b[0;31mNameError\u001b[0m: name 'my_gene' is not defined"
     ]
    }
   ],
   "source": [
    "gene_seq = my_gene.extract(record.seq)\n",
    "len(gene_seq)\n",
    "print(gene_seq)"
   ]
  },
  {
   "cell_type": "markdown",
   "metadata": {},
   "source": [
    "### Ejercicio: \n",
    "termine la siguiente secuencia de comandos estableciendo un nombre de caracteristica apropiado como la etiqueta de locus o el número GI (use la información de .qualifiers o .dbxrefs) para extraer todas las secuencias de codificación del archivo GenBank:"
   ]
  },
  {
   "cell_type": "code",
   "execution_count": 3,
   "metadata": {},
   "outputs": [
    {
     "name": "stdout",
     "output_type": "stream",
     "text": [
      "4319 CDS sequences extracted\n"
     ]
    }
   ],
   "source": [
    "## EJERCIO CON LA MODIFIACION SOLICITADA\n",
    "\n",
    "from Bio import SeqIO\n",
    "record = SeqIO.read(\"NC_000913.gbk\", \"genbank\")\n",
    "output_handle = open(\"NC_000913_cds.fasta\", \"w\")\n",
    "count = 0\n",
    "for feature in record.features:\n",
    "    if feature.type == \"CDS\":\n",
    "        count = count + 1\n",
    "        feature_name = feature.qualifiers # Use feature.qualifiers or feature.dbxrefs here\n",
    "        feature_seq = feature.extract(record.seq)\n",
    "        # Simple FASTA output without line wrapping:\n",
    "        output_handle.write(\">\" + str(feature_name) + \"\\n\" + str(feature_seq) + \"\\n\")\n",
    "output_handle.close()\n",
    "print(str(count) + \" CDS sequences extracted\")"
   ]
  },
  {
   "cell_type": "markdown",
   "metadata": {},
   "source": [
    "verifique sus secuencias usando el archivo FASTA de NCBI provisto:  NC_000913.ffn\n",
    "###  Ejercicio: Puede recrear el esquema de nombres de NCBI como se usa en  NC_000913.ffn?"
   ]
  },
  {
   "cell_type": "markdown",
   "metadata": {},
   "source": [
    "### Longitud de caracteristicas\n",
    "La longitud de los objetos SeqFeature de Biopython (y los objetos de ubicación) se define como la longitud de la región de secuencia que describen (es decir, cuántas bases están incluidas; o para la anotación de proteínas, cuántos aminoácidos)."
   ]
  },
  {
   "cell_type": "code",
   "execution_count": null,
   "metadata": {},
   "outputs": [],
   "source": [
    "len(my_gene)"
   ]
  },
  {
   "cell_type": "markdown",
   "metadata": {},
   "source": [
    "Este ejemplo recorre todas las funciones en busca de registros de  genes y calcula su longitud total:"
   ]
  },
  {
   "cell_type": "code",
   "execution_count": 2,
   "metadata": {},
   "outputs": [
    {
     "name": "stdout",
     "output_type": "stream",
     "text": [
      "Total length of all genes is 4137209\n"
     ]
    }
   ],
   "source": [
    "# LA MODIFICACION DE ESTE EJERCICIO SE ENCUENTRA EN LA ULTIMA PARTE\n",
    "\n",
    "from Bio import SeqIO\n",
    "record = SeqIO.read(\"NC_000913.gbk\", \"genbank\")\n",
    "total = 0\n",
    "for feature in record.features:\n",
    "    if feature.type == \"gene\":\n",
    "        total = total + len(feature)\n",
    "print(\"Total length of all genes is \" + str(total))"
   ]
  },
  {
   "cell_type": "markdown",
   "metadata": {},
   "source": [
    "### Ejercicio: dar un recuento por separado para cada tipo de caracteristica. Use un diccionario donde los indices son el tipo de caracteristica  (por ejemplo, \"gen\" y \"CDS\") y los valores son el recuento para ese tipo."
   ]
  },
  {
   "cell_type": "markdown",
   "metadata": {
    "collapsed": true
   },
   "source": [
    "###Tarea:\n",
    "4. Modificar el Notebook y Agregar los  ejercicios solicitados.\n",
    "5. Crear un archivo C471-lab06-Nombre y Apellido.zip que contenga el Notebook modificado, y los archivos creados."
   ]
  },
  {
   "cell_type": "code",
   "execution_count": 1,
   "metadata": {},
   "outputs": [
    {
     "name": "stdout",
     "output_type": "stream",
     "text": [
      "Imprimiendo tipos encontrados y cantidades por cada uno: \n",
      "misc_feature : 13547\n",
      "mobile_element : 49\n",
      "source : 1\n",
      "rep_origin : 1\n",
      "tRNA : 89\n",
      "CDS : 4319\n",
      "repeat_region : 355\n",
      "tmRNA : 2\n",
      "rRNA : 22\n",
      "STS : 49\n",
      "gene : 4497\n",
      "ncRNA : 65\n"
     ]
    }
   ],
   "source": [
    "#!/usr/bin/python\n",
    "\n",
    "from Bio import SeqIO\n",
    "record = SeqIO.read(\"NC_000913.gbk\", \"genbank\")\n",
    "total = 0\n",
    "#lista para almacenar los tipos de información en la secuencia\n",
    "types=[]\n",
    "for feature in record.features:\n",
    "    feature_name = feature.qualifiers   \n",
    "    types.append(feature.type)\n",
    "\n",
    "# eliminamos los datos repetidos de la lista types\n",
    "types=list(set(types))           \n",
    "\n",
    "# cantidades de cada tipo\n",
    "sizes=[0]*len(types)\n",
    "\n",
    "#diccionario que almacenará los resultados de los tipos y las cantidades\n",
    "dictionary=dict(zip(types,sizes))\n",
    "\n",
    "\n",
    "for feature in record.features:\n",
    "    feature_name = feature.qualifiers   \n",
    "    dictionary.update({feature.type:dictionary[feature.type]+1})\n",
    "    \n",
    "comprobacion=0\n",
    "print(\"Imprimiendo tipos encontrados y cantidades por cada uno: \")\n",
    "for key in dictionary:\n",
    "    print key, \":\", dictionary[key]\n",
    "    comprobacion=comprobacion+dictionary[key]\n"
   ]
  },
  {
   "cell_type": "code",
   "execution_count": null,
   "metadata": {},
   "outputs": [],
   "source": []
  }
 ],
 "metadata": {
  "anaconda-cloud": {},
  "kernelspec": {
   "display_name": "Python 2",
   "language": "python",
   "name": "python2"
  },
  "language_info": {
   "codemirror_mode": {
    "name": "ipython",
    "version": 2
   },
   "file_extension": ".py",
   "mimetype": "text/x-python",
   "name": "python",
   "nbconvert_exporter": "python",
   "pygments_lexer": "ipython2",
   "version": "2.7.15+"
  }
 },
 "nbformat": 4,
 "nbformat_minor": 2
}
