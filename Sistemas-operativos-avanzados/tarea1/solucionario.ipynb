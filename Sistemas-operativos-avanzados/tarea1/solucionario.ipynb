{
 "cells": [
  {
   "cell_type": "markdown",
   "metadata": {
    "colab_type": "text",
    "id": "IelPxnSkMZUW"
   },
   "source": [
    "## Primera tarea de codificación CC-571\n",
    "\n",
    "El siguiente programada, llamado `process-run.py`,  permite ver cómo cambia el estado de un proceso a medida que se ejecuta en una CPU."
   ]
  },
  {
   "cell_type": "code",
   "execution_count": 1,
   "metadata": {
    "colab": {
     "base_uri": "https://localhost:8080/",
     "height": 35
    },
    "colab_type": "code",
    "id": "1A9tbdEOMfPN",
    "outputId": "7ed598f8-f92f-4d38-e0bb-6e2967b0c9ee"
   },
   "outputs": [
    {
     "name": "stdout",
     "output_type": "stream",
     "text": [
      "Overwriting process-run.py\n"
     ]
    }
   ],
   "source": [
    "%%writefile process-run.py\n",
    "\n",
    "#! /usr/bin/env python3\n",
    "\n",
    "import sys\n",
    "from optparse import OptionParser\n",
    "import random\n",
    "\n",
    "SCHED_SWITCH_ON_IO = 'SWITCH_ON_IO'\n",
    "SCHED_SWITCH_ON_END = 'SWITCH_ON_END'\n",
    "\n",
    "IO_RUN_LATER = 'IO_RUN_LATER'\n",
    "IO_RUN_IMMEDIATE = 'IO_RUN_IMMEDIATE'\n",
    "\n",
    "STATE_RUNNING = 'RUNNING'\n",
    "STATE_READY = 'READY'\n",
    "STATE_DONE = 'DONE'\n",
    "STATE_WAIT = 'WAITING'\n",
    "\n",
    "PROC_CODE = 'code_'\n",
    "PROC_PC = 'pc_'\n",
    "PROC_ID = 'pid_'\n",
    "PROC_STATE = 'proc_state_'\n",
    "\n",
    "DO_COMPUTE = 'cpu'\n",
    "DO_IO = 'io'\n",
    "\n",
    "\n",
    "class scheduler:\n",
    "    def __init__(self, process_switch_behavior, io_done_behavior, io_length):\n",
    "        self.proc_info = {}\n",
    "        self.process_switch_behavior = process_switch_behavior\n",
    "        self.io_done_behavior = io_done_behavior\n",
    "        self.io_length = io_length\n",
    "        return\n",
    "\n",
    "    def new_process(self):\n",
    "        proc_id = len(self.proc_info)\n",
    "        self.proc_info[proc_id] = {}\n",
    "        self.proc_info[proc_id][PROC_PC] = 0\n",
    "        self.proc_info[proc_id][PROC_ID] = proc_id\n",
    "        self.proc_info[proc_id][PROC_CODE] = []\n",
    "        self.proc_info[proc_id][PROC_STATE] = STATE_READY\n",
    "        return proc_id\n",
    "\n",
    "    def load_file(self, progfile):\n",
    "        fd = open(progfile)\n",
    "        proc_id = self.new_process()\n",
    "        \n",
    "        for line in fd:\n",
    "            tmp = line.split()\n",
    "            if len(tmp) == 0:\n",
    "                continue\n",
    "            opcode = tmp[0]\n",
    "            if opcode == 'compute':\n",
    "                assert(len(tmp) == 2)\n",
    "                for i in range(int(tmp[1])):\n",
    "                    self.proc_info[proc_id][PROC_CODE].append(DO_COMPUTE)\n",
    "            elif opcode == 'io':\n",
    "                assert(len(tmp) == 1)\n",
    "                self.proc_info[proc_id][PROC_CODE].append(DO_IO)\n",
    "        fd.close()\n",
    "        return\n",
    "\n",
    "    def load(self, program_description):\n",
    "        proc_id = self.new_process()\n",
    "        tmp = program_description.split(':')\n",
    "        if len(tmp) != 2:\n",
    "            print ('Bad description (%s): Must be number <x:y>' % program_description)\n",
    "            print ('  where X is the number of instructions')\n",
    "            print ('  and Y is the percent change that an instruction is CPU not IO')\n",
    "            exit(1)\n",
    "\n",
    "        num_instructions, chance_cpu = int(tmp[0]), float(tmp[1])/100.0\n",
    "        for i in range(num_instructions):\n",
    "            if random.random() < chance_cpu: # aquí se determina el tipo de instrucción.\n",
    "                self.proc_info[proc_id][PROC_CODE].append(DO_COMPUTE)\n",
    "            else:\n",
    "                self.proc_info[proc_id][PROC_CODE].append(DO_IO)\n",
    "        return\n",
    "\n",
    "    def move_to_ready(self, expected, pid=-1):\n",
    "        if pid == -1:\n",
    "            pid = self.curr_proc\n",
    "        assert(self.proc_info[pid][PROC_STATE] == expected)\n",
    "        self.proc_info[pid][PROC_STATE] = STATE_READY\n",
    "        return\n",
    "\n",
    "    def move_to_wait(self, expected):\n",
    "        assert(self.proc_info[self.curr_proc][PROC_STATE] == expected)\n",
    "        self.proc_info[self.curr_proc][PROC_STATE] = STATE_WAIT\n",
    "        return\n",
    "\n",
    "    def move_to_running(self, expected):\n",
    "        assert(self.proc_info[self.curr_proc][PROC_STATE] == expected)\n",
    "        self.proc_info[self.curr_proc][PROC_STATE] = STATE_RUNNING\n",
    "        return\n",
    "\n",
    "    def move_to_done(self, expected):\n",
    "        assert(self.proc_info[self.curr_proc][PROC_STATE] == expected)\n",
    "        self.proc_info[self.curr_proc][PROC_STATE] = STATE_DONE\n",
    "        return\n",
    "\n",
    "    def next_proc(self, pid=-1):\n",
    "        if pid != -1:\n",
    "            self.curr_proc = pid\n",
    "            self.move_to_running(STATE_READY)\n",
    "            return\n",
    "        for pid in range(self.curr_proc + 1, len(self.proc_info)):\n",
    "            if self.proc_info[pid][PROC_STATE] == STATE_READY:\n",
    "                self.curr_proc = pid\n",
    "                self.move_to_running(STATE_READY)\n",
    "                return\n",
    "        for pid in range(0, self.curr_proc + 1):\n",
    "            if self.proc_info[pid][PROC_STATE] == STATE_READY:\n",
    "                self.curr_proc = pid\n",
    "                self.move_to_running(STATE_READY)\n",
    "                return\n",
    "        return\n",
    "\n",
    "    def get_num_processes(self):\n",
    "        return len(self.proc_info)\n",
    "\n",
    "    def get_num_instructions(self, pid):\n",
    "        return len(self.proc_info[pid][PROC_CODE])\n",
    "\n",
    "    def get_instruction(self, pid, index):\n",
    "        return self.proc_info[pid][PROC_CODE][index]\n",
    "\n",
    "    def get_num_active(self):\n",
    "        num_active = 0\n",
    "        for pid in range(len(self.proc_info)):\n",
    "            if self.proc_info[pid][PROC_STATE] != STATE_DONE:\n",
    "                num_active += 1\n",
    "        return num_active\n",
    "\n",
    "    def get_num_runnable(self):\n",
    "        num_active = 0\n",
    "        for pid in range(len(self.proc_info)):\n",
    "            if self.proc_info[pid][PROC_STATE] == STATE_READY or \\\n",
    "                   self.proc_info[pid][PROC_STATE] == STATE_RUNNING:\n",
    "                num_active += 1\n",
    "        return num_active\n",
    "\n",
    "    def get_ios_in_flight(self, current_time):\n",
    "        num_in_flight = 0\n",
    "        for pid in range(len(self.proc_info)):\n",
    "            for t in self.io_finish_times[pid]:\n",
    "                if t > current_time:\n",
    "                    num_in_flight += 1\n",
    "        return num_in_flight\n",
    "\n",
    "    def check_for_switch(self):\n",
    "        return\n",
    "\n",
    "    def space(self, num_columns):\n",
    "        for i in range(num_columns):\n",
    "            print ('%10s' % ' ', end='')\n",
    "\n",
    "    def check_if_done(self):\n",
    "        if len(self.proc_info[self.curr_proc][PROC_CODE]) == 0:\n",
    "            if self.proc_info[self.curr_proc][PROC_STATE] == STATE_RUNNING:\n",
    "                self.move_to_done(STATE_RUNNING)\n",
    "                self.next_proc()\n",
    "        return\n",
    "\n",
    "    def run(self):\n",
    "        clock_tick = 0\n",
    "\n",
    "        if len(self.proc_info) == 0:\n",
    "            return\n",
    "\n",
    "        self.io_finish_times = {}\n",
    "        for pid in range(len(self.proc_info)):\n",
    "            self.io_finish_times[pid] = []\n",
    "\n",
    "        self.curr_proc = 0\n",
    "        self.move_to_running(STATE_READY)\n",
    "\n",
    "        print ('%s' % 'Time', end='') \n",
    "        for pid in range(len(self.proc_info)):\n",
    "            print ('%10s' % ('PID:%2d' % (pid)), end='')\n",
    "        print ('%10s' % 'CPU', end='')\n",
    "        print ('%10s' % 'IOs', end='')\n",
    "        print ('')\n",
    "\n",
    "        io_busy = 0\n",
    "        cpu_busy = 0\n",
    "\n",
    "        while self.get_num_active() > 0:\n",
    "            clock_tick += 1\n",
    "\n",
    "            io_done = False\n",
    "            for pid in range(len(self.proc_info)):\n",
    "                if clock_tick in self.io_finish_times[pid]:\n",
    "                    io_done = True\n",
    "                    self.move_to_ready(STATE_WAIT, pid)\n",
    "                    if self.io_done_behavior == IO_RUN_IMMEDIATE:\n",
    "                        if self.curr_proc != pid:\n",
    "                            if self.proc_info[self.curr_proc][PROC_STATE] == STATE_RUNNING:\n",
    "                                self.move_to_ready(STATE_RUNNING)\n",
    "                        self.next_proc(pid)\n",
    "                    else:\n",
    "                        if self.process_switch_behavior == SCHED_SWITCH_ON_END and self.get_num_runnable() > 1:\n",
    "                            self.next_proc(pid)\n",
    "                        if self.get_num_runnable() == 1:\n",
    "                            self.next_proc(pid)\n",
    "                    self.check_if_done()\n",
    "            \n",
    "            instruction_to_execute = ''\n",
    "            if self.proc_info[self.curr_proc][PROC_STATE] == STATE_RUNNING and \\\n",
    "                   len(self.proc_info[self.curr_proc][PROC_CODE]) > 0:\n",
    "                instruction_to_execute = self.proc_info[self.curr_proc][PROC_CODE].pop(0)\n",
    "                cpu_busy += 1\n",
    "\n",
    "            if io_done:\n",
    "                print ('%3d*' % clock_tick,end='')\n",
    "            else:\n",
    "                print ('%3d ' % clock_tick,end='')\n",
    "            for pid in range(len(self.proc_info)):\n",
    "                if pid == self.curr_proc and instruction_to_execute != '':\n",
    "                    print ('%10s' % ('RUN:'+instruction_to_execute), end='')\n",
    "                else:\n",
    "                    print ('%10s' % (self.proc_info[pid][PROC_STATE]),end='')\n",
    "            if instruction_to_execute == '':\n",
    "                print ('%10s' % ' ', end='')\n",
    "            else:\n",
    "                print ('%10s' % 1, end='')\n",
    "            num_outstanding = self.get_ios_in_flight(clock_tick)\n",
    "            if num_outstanding > 0:\n",
    "                print ('%10s' % str(num_outstanding),end='')\n",
    "                io_busy += 1\n",
    "            else:\n",
    "                print ('%10s' % ' ', end='')\n",
    "            print ('')\n",
    "\n",
    "            if instruction_to_execute == DO_IO:\n",
    "                self.move_to_wait(STATE_RUNNING)\n",
    "                self.io_finish_times[self.curr_proc].append(clock_tick + self.io_length)\n",
    "                if self.process_switch_behavior == SCHED_SWITCH_ON_IO:\n",
    "                    self.next_proc()\n",
    "\n",
    "            self.check_if_done()\n",
    "        return (cpu_busy, io_busy, clock_tick)\n",
    "        \n",
    "\n",
    "\n",
    "parser = OptionParser()\n",
    "parser.add_option('-s', '--seed', default=0, help='the random seed', action='store', type='int', dest='seed')\n",
    "parser.add_option('-l', '--processlist', default='',\n",
    "                  help='a comma-separated list of processes to run, in the form X1:Y1,X2:Y2,... where X is the number of instructions that process should run, and Y the chances (from 0 to 100) that an instruction will use the CPU or issue an IO',\n",
    "                  action='store', type='string', dest='process_list')\n",
    "parser.add_option('-L', '--iolength', default=5, help='how long an IO takes', action='store', type='int', dest='io_length')\n",
    "parser.add_option('-S', '--switch', default='SWITCH_ON_IO',\n",
    "                  help='when to switch between processes: SWITCH_ON_IO, SWITCH_ON_END',\n",
    "                  action='store', type='string', dest='process_switch_behavior')\n",
    "parser.add_option('-I', '--iodone', default='IO_RUN_LATER',\n",
    "                  help='type of behavior when IO ends: IO_RUN_LATER, IO_RUN_IMMEDIATE',\n",
    "                  action='store', type='string', dest='io_done_behavior')\n",
    "parser.add_option('-c', help='compute answers for me', action='store_true', default=False, dest='solve')\n",
    "parser.add_option('-p', '--printstats', help='print statistics at end; only useful with -c flag (otherwise stats are not printed)', action='store_true', default=False, dest='print_stats')\n",
    "(options, args) = parser.parse_args()\n",
    "\n",
    "random.seed(options.seed)\n",
    "\n",
    "assert(options.process_switch_behavior == SCHED_SWITCH_ON_IO or \\\n",
    "       options.process_switch_behavior == SCHED_SWITCH_ON_END)\n",
    "assert(options.io_done_behavior == IO_RUN_IMMEDIATE or \\\n",
    "       options.io_done_behavior == IO_RUN_LATER)\n",
    "\n",
    "s = scheduler(options.process_switch_behavior, options.io_done_behavior, options.io_length)\n",
    "\n",
    "for p in options.process_list.split(','):\n",
    "    s.load(p)\n",
    "\n",
    "if options.solve == False:\n",
    "    print ('Produce a trace of what would happen when you run these processes:')\n",
    "    for pid in range(s.get_num_processes()):\n",
    "        print ('Process %d' % pid)\n",
    "        for inst in range(s.get_num_instructions(pid)):\n",
    "            print ('  %s' % s.get_instruction(pid, inst))\n",
    "        print ('')\n",
    "    print ('Important behaviors:')\n",
    "    print ('  System will switch when'),\n",
    "    if options.process_switch_behavior == SCHED_SWITCH_ON_IO:\n",
    "        print ('the current process is FINISHED or ISSUES AN IO')\n",
    "    else:\n",
    "        print ('the current process is FINISHED')\n",
    "    print ('  After IOs, the process issuing the IO will'),\n",
    "    if options.io_done_behavior == IO_RUN_IMMEDIATE:\n",
    "        print ('run IMMEDIATELY')\n",
    "    else:\n",
    "        print ('run LATER (when it is its turn)')\n",
    "    print ('')\n",
    "    exit(0)\n",
    "\n",
    "(cpu_busy, io_busy, clock_tick) = s.run()\n",
    "\n",
    "if options.print_stats:\n",
    "    print ('')\n",
    "    print ('Stats: Total Time %d' % clock_tick)\n",
    "    print ('Stats: CPU Busy %d (%.2f%%)' % (cpu_busy, 100.0 * float(cpu_busy)/clock_tick))\n",
    "    print ('Stats: IO Busy  %d (%.2f%%)' % (io_busy, 100.0 * float(io_busy)/clock_tick))\n",
    "    print ('')"
   ]
  },
  {
   "cell_type": "markdown",
   "metadata": {
    "colab_type": "text",
    "id": "vGezNXLHNsY9"
   },
   "source": [
    "#### Ejercicio 1 \n",
    "\n",
    "Corrige y ejecuta el script  y muestra las distintas opciones que produce."
   ]
  },
  {
   "cell_type": "markdown",
   "metadata": {},
   "source": [
    "##### Respuesta 1:"
   ]
  },
  {
   "cell_type": "code",
   "execution_count": 2,
   "metadata": {
    "colab": {},
    "colab_type": "code",
    "id": "AiaOiN_PNJUw"
   },
   "outputs": [
    {
     "name": "stdout",
     "output_type": "stream",
     "text": [
      "Usage: process-run.py [options]\r\n",
      "\r\n",
      "Options:\r\n",
      "  -h, --help            show this help message and exit\r\n",
      "  -s SEED, --seed=SEED  the random seed\r\n",
      "  -l PROCESS_LIST, --processlist=PROCESS_LIST\r\n",
      "                        a comma-separated list of processes to run, in the\r\n",
      "                        form X1:Y1,X2:Y2,... where X is the number of\r\n",
      "                        instructions that process should run, and Y the\r\n",
      "                        chances (from 0 to 100) that an instruction will use\r\n",
      "                        the CPU or issue an IO\r\n",
      "  -L IO_LENGTH, --iolength=IO_LENGTH\r\n",
      "                        how long an IO takes\r\n",
      "  -S PROCESS_SWITCH_BEHAVIOR, --switch=PROCESS_SWITCH_BEHAVIOR\r\n",
      "                        when to switch between processes: SWITCH_ON_IO,\r\n",
      "                        SWITCH_ON_END\r\n",
      "  -I IO_DONE_BEHAVIOR, --iodone=IO_DONE_BEHAVIOR\r\n",
      "                        type of behavior when IO ends: IO_RUN_LATER,\r\n",
      "                        IO_RUN_IMMEDIATE\r\n",
      "  -c                    compute answers for me\r\n",
      "  -p, --printstats      print statistics at end; only useful with -c flag\r\n",
      "                        (otherwise stats are not printed)\r\n"
     ]
    }
   ],
   "source": [
    "!python3 process-run.py -h"
   ]
  },
  {
   "cell_type": "markdown",
   "metadata": {
    "colab_type": "text",
    "id": "WTMpWzB4OR4-"
   },
   "source": [
    "#### Ejercicio 2\n",
    "\n",
    "Explica que función realizan las siguientes opciones:\n",
    "\n",
    "- `PROCESS_LIST`:\n",
    "- `PROCESS_SWITCH_BEHAVIOR`:\n",
    "- `IO_DONE_BEHAVIOR`:"
   ]
  },
  {
   "cell_type": "markdown",
   "metadata": {},
   "source": [
    "##### Respuesta 2:\n",
    "- `PROCESS_LIST`:\n",
    "pide que ingreses una lista de procesos separados por comas. \n",
    "El proceso está definido por una dupla X:Y donde X es el número de instrucciones\n",
    "que tendrá el proceso y Y es la probabilidad de que una instrucción use la CPU. Es decir,\n",
    "si se tiene probabilidad Y de usar CPU se tendrá 100 - Y de usar el dispositivo I/O\n",
    "- `PROCESS_SWITCH_BEHAVIOR`:\n",
    "indica la forma en que se altenernará la ejecución entre procesos. Hay dos opciones, \n",
    "la primera y la segunda. Cambiar con cada interrupción I/O o cambiar cuando un proceso finalice.\n",
    "- `IO_DONE_BEHAVIOR`:\n",
    "determina si el proceso se retomará o no inmediatamente luego de que este haya usado \n",
    "el dispositivo de entrada y salida. Si se selecciona IO_RUN_LATER, entonces el proceso se\n",
    "añadirá a la cola y tendrá que esperar su turno para reanudarse."
   ]
  },
  {
   "cell_type": "markdown",
   "metadata": {
    "colab_type": "text",
    "id": "73t8LNFcPZRp"
   },
   "source": [
    "#### Ejercicio 3:\n",
    "\n",
    "Explica las salidas de (en colab o jupyter usar una comando mágico como `%run file.py`): \n",
    "\n",
    "- `prompt> ./process-run.py -l 5:100`\n",
    "\n",
    "- `prompt> ./process-run.py -l 5:100 -c`\n",
    "\n",
    "- `prompt> ./process-run.py -l 5:100,5:100 `\n",
    "\n",
    "- `prompt> ./process-run.py -l 5:100,5:100 -c`\n",
    "\n",
    "- `prompt> ./process-run.py -l 3:0 -L 5`\n",
    "\n",
    "- `prompt> ./process-run.py -l 3:0 -L 5 -c`"
   ]
  },
  {
   "cell_type": "markdown",
   "metadata": {},
   "source": [
    "##### Respuesta 3:\n",
    "Veamos"
   ]
  },
  {
   "cell_type": "code",
   "execution_count": 3,
   "metadata": {
    "colab": {},
    "colab_type": "code",
    "id": "o2j7KYf9PTWz"
   },
   "outputs": [
    {
     "name": "stdout",
     "output_type": "stream",
     "text": [
      "Produce a trace of what would happen when you run these processes:\r\n",
      "Process 0\r\n",
      "  cpu\r\n",
      "  cpu\r\n",
      "  cpu\r\n",
      "  cpu\r\n",
      "  cpu\r\n",
      "\r\n",
      "Important behaviors:\r\n",
      "  System will switch when\r\n",
      "the current process is FINISHED or ISSUES AN IO\r\n",
      "  After IOs, the process issuing the IO will\r\n",
      "run LATER (when it is its turn)\r\n",
      "\r\n"
     ]
    }
   ],
   "source": [
    "!python3 process-run.py -l 5:100"
   ]
  },
  {
   "cell_type": "markdown",
   "metadata": {},
   "source": [
    "Muestra la secuencia de instrucciones que tendría el proceso 0. \n",
    "Podemos ver que usaría 5 veces el cpu, tal y como lo especificamos en la entrada.\n",
    "También nos alerta sobre el modo de cambio de procesos y la forma en que\n",
    "los procesos son retomados después de una interrupción de I/"
   ]
  },
  {
   "cell_type": "code",
   "execution_count": 4,
   "metadata": {},
   "outputs": [
    {
     "name": "stdout",
     "output_type": "stream",
     "text": [
      "Time    PID: 0       CPU       IOs\r\n",
      "  1    RUN:cpu         1          \r\n",
      "  2    RUN:cpu         1          \r\n",
      "  3    RUN:cpu         1          \r\n",
      "  4    RUN:cpu         1          \r\n",
      "  5    RUN:cpu         1          \r\n"
     ]
    }
   ],
   "source": [
    "!python3 process-run.py -l 5:100 -c"
   ]
  },
  {
   "cell_type": "markdown",
   "metadata": {},
   "source": [
    "Muestra la simulación del proceso 0. Podemos ver que hay 5 pasos, como se ha especificado en la entrada.\n",
    "Los 5 pasos piden el CPU y no se pide entrada y salida en ningún momento."
   ]
  },
  {
   "cell_type": "code",
   "execution_count": 5,
   "metadata": {},
   "outputs": [
    {
     "name": "stdout",
     "output_type": "stream",
     "text": [
      "Produce a trace of what would happen when you run these processes:\r\n",
      "Process 0\r\n",
      "  cpu\r\n",
      "  cpu\r\n",
      "  cpu\r\n",
      "  cpu\r\n",
      "  cpu\r\n",
      "\r\n",
      "Process 1\r\n",
      "  cpu\r\n",
      "  cpu\r\n",
      "  cpu\r\n",
      "  cpu\r\n",
      "  cpu\r\n",
      "\r\n",
      "Important behaviors:\r\n",
      "  System will switch when\r\n",
      "the current process is FINISHED or ISSUES AN IO\r\n",
      "  After IOs, the process issuing the IO will\r\n",
      "run LATER (when it is its turn)\r\n",
      "\r\n"
     ]
    }
   ],
   "source": [
    "!python3 process-run.py -l 5:100,5:100"
   ]
  },
  {
   "cell_type": "markdown",
   "metadata": {},
   "source": [
    "Muestra las instrucciones definidas para dos procesos identificados como uno y dos.\n",
    "Como las veces anterior, nos alerta sobre el modo de cambio de procesos y la \n",
    "forma en que los procesos son retomados después de una interrupción de I/O"
   ]
  },
  {
   "cell_type": "code",
   "execution_count": 6,
   "metadata": {},
   "outputs": [
    {
     "name": "stdout",
     "output_type": "stream",
     "text": [
      "Time    PID: 0    PID: 1       CPU       IOs\r\n",
      "  1    RUN:cpu     READY         1          \r\n",
      "  2    RUN:cpu     READY         1          \r\n",
      "  3    RUN:cpu     READY         1          \r\n",
      "  4    RUN:cpu     READY         1          \r\n",
      "  5    RUN:cpu     READY         1          \r\n",
      "  6       DONE   RUN:cpu         1          \r\n",
      "  7       DONE   RUN:cpu         1          \r\n",
      "  8       DONE   RUN:cpu         1          \r\n",
      "  9       DONE   RUN:cpu         1          \r\n",
      " 10       DONE   RUN:cpu         1          \r\n"
     ]
    }
   ],
   "source": [
    "!python3 process-run.py -l 5:100,5:100 -c"
   ]
  },
  {
   "cell_type": "markdown",
   "metadata": {},
   "source": [
    "Muestra la simulación de la programación anterior. El proceso 1 espera a que el proceso 0 termine de\n",
    "desocupar el cpu. Luego, corre. No se usa I/O."
   ]
  },
  {
   "cell_type": "code",
   "execution_count": 7,
   "metadata": {},
   "outputs": [
    {
     "name": "stdout",
     "output_type": "stream",
     "text": [
      "Produce a trace of what would happen when you run these processes:\r\n",
      "Process 0\r\n",
      "  io\r\n",
      "  io\r\n",
      "  io\r\n",
      "\r\n",
      "Important behaviors:\r\n",
      "  System will switch when\r\n",
      "the current process is FINISHED or ISSUES AN IO\r\n",
      "  After IOs, the process issuing the IO will\r\n",
      "run LATER (when it is its turn)\r\n",
      "\r\n"
     ]
    }
   ],
   "source": [
    "!python3 process-run.py -l 3:0 -L 5"
   ]
  },
  {
   "cell_type": "markdown",
   "metadata": {},
   "source": [
    "Muestra las instrucciones del proceso 0. Se ha puesto el tiempo que tarda una interrupción I/O a 5,\n",
    "pero no se ha puesto en acción. De hecho, ese es el valor por defecto."
   ]
  },
  {
   "cell_type": "code",
   "execution_count": 8,
   "metadata": {},
   "outputs": [
    {
     "name": "stdout",
     "output_type": "stream",
     "text": [
      "Time    PID: 0       CPU       IOs\r\n",
      "  1     RUN:io         1          \r\n",
      "  2    WAITING                   1\r\n",
      "  3    WAITING                   1\r\n",
      "  4    WAITING                   1\r\n",
      "  5    WAITING                   1\r\n",
      "  6*    RUN:io         1          \r\n",
      "  7    WAITING                   1\r\n",
      "  8    WAITING                   1\r\n",
      "  9    WAITING                   1\r\n",
      " 10    WAITING                   1\r\n",
      " 11*    RUN:io         1          \r\n",
      " 12    WAITING                   1\r\n",
      " 13    WAITING                   1\r\n",
      " 14    WAITING                   1\r\n",
      " 15    WAITING                   1\r\n",
      " 16*      DONE                    \r\n"
     ]
    }
   ],
   "source": [
    "!python3 process-run.py -l 3:0 L=5 -c"
   ]
  },
  {
   "cell_type": "markdown",
   "metadata": {},
   "source": [
    "Realiza la simulación. El proceso realiza tres operaciones de I/O. Se tarda lo esperado 15 pasos."
   ]
  },
  {
   "cell_type": "markdown",
   "metadata": {
    "colab_type": "text",
    "id": "q16b7d_TQtJx"
   },
   "source": [
    "#### Ejercicio 4:\n",
    "\n",
    "- Imprime estadísticas usando los mismo comandos anteriores, pero con la opción `-p`\n",
    "\n",
    "- Explica tus conclusiones."
   ]
  },
  {
   "cell_type": "markdown",
   "metadata": {},
   "source": [
    "##### Respuesta 4:\n",
    "Veamos:"
   ]
  },
  {
   "cell_type": "code",
   "execution_count": 9,
   "metadata": {
    "colab": {},
    "colab_type": "code",
    "id": "BFUzmJ8eQl11"
   },
   "outputs": [
    {
     "name": "stdout",
     "output_type": "stream",
     "text": [
      "Time    PID: 0       CPU       IOs\n",
      "  1    RUN:cpu         1          \n",
      "  2    RUN:cpu         1          \n",
      "  3    RUN:cpu         1          \n",
      "  4    RUN:cpu         1          \n",
      "  5    RUN:cpu         1          \n",
      "\n",
      "Stats: Total Time 5\n",
      "Stats: CPU Busy 5 (100.00%)\n",
      "Stats: IO Busy  0 (0.00%)\n",
      "\n",
      "---------------------------------------------\n",
      "Time    PID: 0    PID: 1       CPU       IOs\n",
      "  1    RUN:cpu     READY         1          \n",
      "  2    RUN:cpu     READY         1          \n",
      "  3    RUN:cpu     READY         1          \n",
      "  4    RUN:cpu     READY         1          \n",
      "  5    RUN:cpu     READY         1          \n",
      "  6       DONE   RUN:cpu         1          \n",
      "  7       DONE   RUN:cpu         1          \n",
      "  8       DONE   RUN:cpu         1          \n",
      "  9       DONE   RUN:cpu         1          \n",
      " 10       DONE   RUN:cpu         1          \n",
      "\n",
      "Stats: Total Time 10\n",
      "Stats: CPU Busy 10 (100.00%)\n",
      "Stats: IO Busy  0 (0.00%)\n",
      "\n",
      "---------------------------------------------\n",
      "Time    PID: 0       CPU       IOs\n",
      "  1     RUN:io         1          \n",
      "  2    WAITING                   1\n",
      "  3    WAITING                   1\n",
      "  4    WAITING                   1\n",
      "  5    WAITING                   1\n",
      "  6*    RUN:io         1          \n",
      "  7    WAITING                   1\n",
      "  8    WAITING                   1\n",
      "  9    WAITING                   1\n",
      " 10    WAITING                   1\n",
      " 11*    RUN:io         1          \n",
      " 12    WAITING                   1\n",
      " 13    WAITING                   1\n",
      " 14    WAITING                   1\n",
      " 15    WAITING                   1\n",
      " 16*      DONE                    \n",
      "\n",
      "Stats: Total Time 16\n",
      "Stats: CPU Busy 3 (18.75%)\n",
      "Stats: IO Busy  12 (75.00%)\n",
      "\n"
     ]
    }
   ],
   "source": [
    "!python3 process-run.py -l 5:100 -c -p\n",
    "print('---------------------------------------------')\n",
    "!python3 process-run.py -l 5:100,5:100 -c -p\n",
    "print('---------------------------------------------')\n",
    "!python3 process-run.py -l 3:0 L=5 -c -p"
   ]
  },
  {
   "cell_type": "markdown",
   "metadata": {},
   "source": [
    "En las dos primeras simulaciones, el cpu se usa al 100% y IO se usa al 0%. \n",
    "En cambio, en la tercera simulación el CPU se usa al 18.75% y IO se usa al 75%.\n",
    "Es importante notar que el CPU se usa al momento de la interrupción I/O, por lo tanto,\n",
    "para iniciar IO se necesitará primero el CPU libre.\n",
    "La diferencia en el porcentaje, puesto que observamos que %CPU y %IO no suman 100, se encuentra en el tiempo 16, que no se usa para nada\n",
    "pero se cuenta en la estadística.."
   ]
  },
  {
   "cell_type": "markdown",
   "metadata": {
    "colab_type": "text",
    "id": "LtvlAkmiRgAX"
   },
   "source": [
    "#### Ejercicio 5:\n",
    "\n",
    "Una opción importante es `-S`. Con esta opción configurada en `SWITCH_ON_END`, el sistema NO cambiará a otro proceso mientras uno esté realizando un `E/S`, sino que esperará hasta que el proceso haya terminado por completo.\n",
    "\n",
    "- Explica que hace la opción `-S`\n",
    "- ¿Qué sucede cuando se ejecutan los siguientes dos procesos (`-l 1:0,4:100 -c -S SWITCH_ON_END`), uno haciendo `E/S` y el otro haciendo trabajo de CPU?\n"
   ]
  },
  {
   "cell_type": "markdown",
   "metadata": {},
   "source": [
    "##### Respuesta 5:\n",
    "+ La opción `-S` modifica la forma en que se ejecutan los procesos.\n",
    "\n",
    "Ahora, realicemos la simulación:"
   ]
  },
  {
   "cell_type": "code",
   "execution_count": 10,
   "metadata": {
    "scrolled": true
   },
   "outputs": [
    {
     "name": "stdout",
     "output_type": "stream",
     "text": [
      "Time    PID: 0    PID: 1       CPU       IOs\r\n",
      "  1     RUN:io     READY         1          \r\n",
      "  2    WAITING     READY                   1\r\n",
      "  3    WAITING     READY                   1\r\n",
      "  4    WAITING     READY                   1\r\n",
      "  5    WAITING     READY                   1\r\n",
      "  6*      DONE   RUN:cpu         1          \r\n",
      "  7       DONE   RUN:cpu         1          \r\n",
      "  8       DONE   RUN:cpu         1          \r\n",
      "  9       DONE   RUN:cpu         1          \r\n",
      "\r\n",
      "Stats: Total Time 9\r\n",
      "Stats: CPU Busy 5 (55.56%)\r\n",
      "Stats: IO Busy  4 (44.44%)\r\n",
      "\r\n"
     ]
    }
   ],
   "source": [
    "!python3 process-run.py -l 1:0,4:100 -c -S SWITCH_ON_END -p"
   ]
  },
  {
   "cell_type": "markdown",
   "metadata": {},
   "source": [
    "+ Una vez iniciada la ejecución el proceso 1 se queda esperando a que el proceso 0 termine para empezar a usar el CPU. \n",
    "Esto es un desproposito puesto que, según nuestro modelo, el CPU y el dispositivo I/O pueden\n",
    "operar en paralelo. Note que el CPU se usa al 55.56% y IO al 44.44%"
   ]
  },
  {
   "cell_type": "markdown",
   "metadata": {
    "colab_type": "text",
    "id": "EuVdyhVxSzwl"
   },
   "source": [
    "#### Ejercicio 6: \n",
    "\n",
    "Ahora, ejecute los mismos procesos, pero con el comportamiento `switching` configurado para cambiar a otro proceso siempre `WAITING` es para `E/S` (`-l 1:0,4:100 -c -S SWITCH_ON_IO`). \n",
    "\n",
    "- ¿Que pasa ahora? \n",
    "- Utiliza `-c` y `-p` y explica que ocurre."
   ]
  },
  {
   "cell_type": "markdown",
   "metadata": {},
   "source": [
    "##### Respuesta 7:\n",
    "Ejecutemos lo solicitado:"
   ]
  },
  {
   "cell_type": "code",
   "execution_count": 11,
   "metadata": {
    "colab": {},
    "colab_type": "code",
    "id": "8m3lp82BSptw"
   },
   "outputs": [
    {
     "name": "stdout",
     "output_type": "stream",
     "text": [
      "Time    PID: 0    PID: 1       CPU       IOs\r\n",
      "  1     RUN:io     READY         1          \r\n",
      "  2    WAITING   RUN:cpu         1         1\r\n",
      "  3    WAITING   RUN:cpu         1         1\r\n",
      "  4    WAITING   RUN:cpu         1         1\r\n",
      "  5    WAITING   RUN:cpu         1         1\r\n",
      "  6*      DONE      DONE                    \r\n"
     ]
    }
   ],
   "source": [
    "!python3 process-run.py -l 1:0,4:100 -c -S SWITCH_ON_IO"
   ]
  },
  {
   "cell_type": "markdown",
   "metadata": {},
   "source": [
    "+ Ahora, cada vez que hay una interrupción IO, se cambia el proceso que se está ejecutando."
   ]
  },
  {
   "cell_type": "code",
   "execution_count": 12,
   "metadata": {},
   "outputs": [
    {
     "name": "stdout",
     "output_type": "stream",
     "text": [
      "Time    PID: 0    PID: 1       CPU       IOs\r\n",
      "  1     RUN:io     READY         1          \r\n",
      "  2    WAITING   RUN:cpu         1         1\r\n",
      "  3    WAITING   RUN:cpu         1         1\r\n",
      "  4    WAITING   RUN:cpu         1         1\r\n",
      "  5    WAITING   RUN:cpu         1         1\r\n",
      "  6*      DONE      DONE                    \r\n",
      "\r\n",
      "Stats: Total Time 6\r\n",
      "Stats: CPU Busy 5 (83.33%)\r\n",
      "Stats: IO Busy  4 (66.67%)\r\n",
      "\r\n"
     ]
    }
   ],
   "source": [
    "!python3 process-run.py -l 1:0,4:100 -c -S SWITCH_ON_IO -p"
   ]
  },
  {
   "cell_type": "markdown",
   "metadata": {},
   "source": [
    "+ El tiempo de ejecución se ve tremendamente reducido."
   ]
  },
  {
   "cell_type": "markdown",
   "metadata": {
    "colab_type": "text",
    "id": "G-3kMnJAV2KI"
   },
   "source": [
    "#### Ejercicio 7:\n",
    "\n",
    "Otro comportamiento importante es qué hacer cuando se completa una `E/S`. \n",
    "\n",
    "\n",
    "- ¿Qué sucede  con  `-I IO_RUN_LATER`, cuando se completa una `E/S`\n",
    "- Qué sucede cuando ejecuta esta combinación de procesos: \n",
    " ` prompt> ./process-run.py -l 3:0,5:100,5:100,5:100 -S SWITCH_ON_IO -I IO_RUN_LATER -c -p`).  ¿Se están utilizando eficazmente los recursos del sistema?.\n",
    "\n",
    "- Ejecuta los mismos procesos, pero con con `-I IO RUN IMMEDIATE`, ¿cómo difiere este comportamiento del anterior?. ¿Por qué crees que podría ser una buena idea ejecutar un proceso que acaba de completar una `E/S` nuevamente?."
   ]
  },
  {
   "cell_type": "markdown",
   "metadata": {},
   "source": [
    "##### Respuesta 7:\n",
    "+ Con la bandera `-I IO_RUN_LATER`, el proceso que llamó a la IO es puesto en la cola para reanudarse cuando su turno llegue nuevamente."
   ]
  },
  {
   "cell_type": "code",
   "execution_count": 13,
   "metadata": {
    "colab": {},
    "colab_type": "code",
    "id": "aW74S_cuVQH4"
   },
   "outputs": [
    {
     "name": "stdout",
     "output_type": "stream",
     "text": [
      "Time    PID: 0    PID: 1    PID: 2    PID: 3       CPU       IOs\r\n",
      "  1     RUN:io     READY     READY     READY         1          \r\n",
      "  2    WAITING   RUN:cpu     READY     READY         1         1\r\n",
      "  3    WAITING   RUN:cpu     READY     READY         1         1\r\n",
      "  4    WAITING   RUN:cpu     READY     READY         1         1\r\n",
      "  5    WAITING   RUN:cpu     READY     READY         1         1\r\n",
      "  6*     READY   RUN:cpu     READY     READY         1          \r\n",
      "  7      READY      DONE   RUN:cpu     READY         1          \r\n",
      "  8      READY      DONE   RUN:cpu     READY         1          \r\n",
      "  9      READY      DONE   RUN:cpu     READY         1          \r\n",
      " 10      READY      DONE   RUN:cpu     READY         1          \r\n",
      " 11      READY      DONE   RUN:cpu     READY         1          \r\n",
      " 12      READY      DONE      DONE   RUN:cpu         1          \r\n",
      " 13      READY      DONE      DONE   RUN:cpu         1          \r\n",
      " 14      READY      DONE      DONE   RUN:cpu         1          \r\n",
      " 15      READY      DONE      DONE   RUN:cpu         1          \r\n",
      " 16      READY      DONE      DONE   RUN:cpu         1          \r\n",
      " 17     RUN:io      DONE      DONE      DONE         1          \r\n",
      " 18    WAITING      DONE      DONE      DONE                   1\r\n",
      " 19    WAITING      DONE      DONE      DONE                   1\r\n",
      " 20    WAITING      DONE      DONE      DONE                   1\r\n",
      " 21    WAITING      DONE      DONE      DONE                   1\r\n",
      " 22*    RUN:io      DONE      DONE      DONE         1          \r\n",
      " 23    WAITING      DONE      DONE      DONE                   1\r\n",
      " 24    WAITING      DONE      DONE      DONE                   1\r\n",
      " 25    WAITING      DONE      DONE      DONE                   1\r\n",
      " 26    WAITING      DONE      DONE      DONE                   1\r\n",
      " 27*      DONE      DONE      DONE      DONE                    \r\n",
      "\r\n",
      "Stats: Total Time 27\r\n",
      "Stats: CPU Busy 18 (66.67%)\r\n",
      "Stats: IO Busy  12 (44.44%)\r\n",
      "\r\n"
     ]
    }
   ],
   "source": [
    "!python3 process-run.py -l 3:0,5:100,5:100,5:100 -S SWITCH_ON_IO -I IO_RUN_LATER -c -p"
   ]
  },
  {
   "cell_type": "markdown",
   "metadata": {},
   "source": [
    "+ No se utiliza eficazmente los recursos del sistema. Note que el proceso 0 es el único\n",
    "que utiliza IO. Sin embargo, esta no puede concretarse porque, debido la bandera SWITCH_ON_IO\n",
    "tiene que esperar al final de la cola para poder utilizar el CPU para realizar la \n",
    "interrupción cuando IO podría utilizarse mientras el resto de procesos sigue usando el \n",
    "CPU luego de que se hubiese llamado a la interrupción."
   ]
  },
  {
   "cell_type": "code",
   "execution_count": 14,
   "metadata": {},
   "outputs": [
    {
     "name": "stdout",
     "output_type": "stream",
     "text": [
      "Time    PID: 0    PID: 1    PID: 2    PID: 3       CPU       IOs\r\n",
      "  1     RUN:io     READY     READY     READY         1          \r\n",
      "  2    WAITING   RUN:cpu     READY     READY         1         1\r\n",
      "  3    WAITING   RUN:cpu     READY     READY         1         1\r\n",
      "  4    WAITING   RUN:cpu     READY     READY         1         1\r\n",
      "  5    WAITING   RUN:cpu     READY     READY         1         1\r\n",
      "  6*    RUN:io     READY     READY     READY         1          \r\n",
      "  7    WAITING   RUN:cpu     READY     READY         1         1\r\n",
      "  8    WAITING      DONE   RUN:cpu     READY         1         1\r\n",
      "  9    WAITING      DONE   RUN:cpu     READY         1         1\r\n",
      " 10    WAITING      DONE   RUN:cpu     READY         1         1\r\n",
      " 11*    RUN:io      DONE     READY     READY         1          \r\n",
      " 12    WAITING      DONE   RUN:cpu     READY         1         1\r\n",
      " 13    WAITING      DONE   RUN:cpu     READY         1         1\r\n",
      " 14    WAITING      DONE      DONE   RUN:cpu         1         1\r\n",
      " 15    WAITING      DONE      DONE   RUN:cpu         1         1\r\n",
      " 16*      DONE      DONE      DONE   RUN:cpu         1          \r\n",
      " 17       DONE      DONE      DONE   RUN:cpu         1          \r\n",
      " 18       DONE      DONE      DONE   RUN:cpu         1          \r\n",
      "\r\n",
      "Stats: Total Time 18\r\n",
      "Stats: CPU Busy 18 (100.00%)\r\n",
      "Stats: IO Busy  12 (66.67%)\r\n",
      "\r\n"
     ]
    }
   ],
   "source": [
    "!python3 process-run.py -l 3:0,5:100,5:100,5:100 -S SWITCH_ON_IO -I IO_RUN_IMMEDIATE -c -p"
   ]
  },
  {
   "cell_type": "markdown",
   "metadata": {},
   "source": [
    "+ Ahora, se ha hecho lo que indicamos en el caso anterior. Cada vez que se termina\n",
    "una operación de entrada y salida, el proceso que la llamó vuelve a ocupar el CPU.\n",
    "Esto mejora el rendimiento puesto que, una vez que se ha concretado la llamada a IO,\n",
    "el CPU deja de ocuparse y pasa a ser usado por los demás procesos debido a la bandera\n",
    "SWITCH_ON_IO. Sin embargo, recordemos que este es un caso particular en el cual solo \n",
    "uno de los procesos realiza únicamente IO y el resto únicamente CPU.\n",
    "\n",
    "+ Para ilustrar esto, probemos lo siguiente: `-l 3:0,5:50,5:100,5:50 -S SWITCH_ON_IO -I IO_RUN_IMMEDIATE -c -p` donde, la mitad de las instrucciones de los procesos 1 y 3 serán IO.\n",
    "\n",
    "\n"
   ]
  },
  {
   "cell_type": "code",
   "execution_count": 15,
   "metadata": {},
   "outputs": [
    {
     "name": "stdout",
     "output_type": "stream",
     "text": [
      "Time    PID: 0    PID: 1    PID: 2    PID: 3       CPU       IOs\r\n",
      "  1     RUN:io     READY     READY     READY         1          \r\n",
      "  2    WAITING   RUN:cpu     READY     READY         1         1\r\n",
      "  3    WAITING    RUN:io     READY     READY         1         1\r\n",
      "  4    WAITING   WAITING   RUN:cpu     READY         1         2\r\n",
      "  5    WAITING   WAITING   RUN:cpu     READY         1         2\r\n",
      "  6*    RUN:io   WAITING     READY     READY         1         1\r\n",
      "  7    WAITING   WAITING   RUN:cpu     READY         1         2\r\n",
      "  8*   WAITING   RUN:cpu     READY     READY         1         1\r\n",
      "  9    WAITING    RUN:io     READY     READY         1         1\r\n",
      " 10    WAITING   WAITING   RUN:cpu     READY         1         2\r\n",
      " 11*    RUN:io   WAITING     READY     READY         1         1\r\n",
      " 12    WAITING   WAITING   RUN:cpu     READY         1         2\r\n",
      " 13    WAITING   WAITING      DONE    RUN:io         1         2\r\n",
      " 14*   WAITING   RUN:cpu      DONE   WAITING         1         2\r\n",
      " 15    WAITING      DONE      DONE   WAITING                   2\r\n",
      " 16*      DONE      DONE      DONE   WAITING                   1\r\n",
      " 17       DONE      DONE      DONE   WAITING                   1\r\n",
      " 18*      DONE      DONE      DONE    RUN:io         1          \r\n",
      " 19       DONE      DONE      DONE   WAITING                   1\r\n",
      " 20       DONE      DONE      DONE   WAITING                   1\r\n",
      " 21       DONE      DONE      DONE   WAITING                   1\r\n",
      " 22       DONE      DONE      DONE   WAITING                   1\r\n",
      " 23*      DONE      DONE      DONE   RUN:cpu         1          \r\n",
      " 24       DONE      DONE      DONE    RUN:io         1          \r\n",
      " 25       DONE      DONE      DONE   WAITING                   1\r\n",
      " 26       DONE      DONE      DONE   WAITING                   1\r\n",
      " 27       DONE      DONE      DONE   WAITING                   1\r\n",
      " 28       DONE      DONE      DONE   WAITING                   1\r\n",
      " 29*      DONE      DONE      DONE    RUN:io         1          \r\n",
      " 30       DONE      DONE      DONE   WAITING                   1\r\n",
      " 31       DONE      DONE      DONE   WAITING                   1\r\n",
      " 32       DONE      DONE      DONE   WAITING                   1\r\n",
      " 33       DONE      DONE      DONE   WAITING                   1\r\n",
      " 34*      DONE      DONE      DONE      DONE                    \r\n",
      "\r\n",
      "Stats: Total Time 34\r\n",
      "Stats: CPU Busy 18 (52.94%)\r\n",
      "Stats: IO Busy  28 (82.35%)\r\n",
      "\r\n"
     ]
    }
   ],
   "source": [
    "!python3 process-run.py -l 3:0,5:50,5:100,5:50 -S SWITCH_ON_IO -I IO_RUN_IMMEDIATE -c -p"
   ]
  },
  {
   "cell_type": "markdown",
   "metadata": {},
   "source": [
    "+ Ahora, cambiemos el modo de ejecución después de la interrupción IO a `IO_RUN_LATER` con: `-l 3:0,5:100,5:100,5:100 -S SWITCH_ON_IO -I IO_RUN_LATER -c -p`"
   ]
  },
  {
   "cell_type": "code",
   "execution_count": 16,
   "metadata": {},
   "outputs": [
    {
     "name": "stdout",
     "output_type": "stream",
     "text": [
      "Time    PID: 0    PID: 1    PID: 2    PID: 3       CPU       IOs\r\n",
      "  1     RUN:io     READY     READY     READY         1          \r\n",
      "  2    WAITING   RUN:cpu     READY     READY         1         1\r\n",
      "  3    WAITING   RUN:cpu     READY     READY         1         1\r\n",
      "  4    WAITING   RUN:cpu     READY     READY         1         1\r\n",
      "  5    WAITING   RUN:cpu     READY     READY         1         1\r\n",
      "  6*     READY   RUN:cpu     READY     READY         1          \r\n",
      "  7      READY      DONE   RUN:cpu     READY         1          \r\n",
      "  8      READY      DONE   RUN:cpu     READY         1          \r\n",
      "  9      READY      DONE   RUN:cpu     READY         1          \r\n",
      " 10      READY      DONE   RUN:cpu     READY         1          \r\n",
      " 11      READY      DONE   RUN:cpu     READY         1          \r\n",
      " 12      READY      DONE      DONE   RUN:cpu         1          \r\n",
      " 13      READY      DONE      DONE   RUN:cpu         1          \r\n",
      " 14      READY      DONE      DONE   RUN:cpu         1          \r\n",
      " 15      READY      DONE      DONE   RUN:cpu         1          \r\n",
      " 16      READY      DONE      DONE   RUN:cpu         1          \r\n",
      " 17     RUN:io      DONE      DONE      DONE         1          \r\n",
      " 18    WAITING      DONE      DONE      DONE                   1\r\n",
      " 19    WAITING      DONE      DONE      DONE                   1\r\n",
      " 20    WAITING      DONE      DONE      DONE                   1\r\n",
      " 21    WAITING      DONE      DONE      DONE                   1\r\n",
      " 22*    RUN:io      DONE      DONE      DONE         1          \r\n",
      " 23    WAITING      DONE      DONE      DONE                   1\r\n",
      " 24    WAITING      DONE      DONE      DONE                   1\r\n",
      " 25    WAITING      DONE      DONE      DONE                   1\r\n",
      " 26    WAITING      DONE      DONE      DONE                   1\r\n",
      " 27*      DONE      DONE      DONE      DONE                    \r\n",
      "\r\n",
      "Stats: Total Time 27\r\n",
      "Stats: CPU Busy 18 (66.67%)\r\n",
      "Stats: IO Busy  12 (44.44%)\r\n",
      "\r\n"
     ]
    }
   ],
   "source": [
    "!python3 process-run.py -l 3:0,5:100,5:100,5:100 -S SWITCH_ON_IO -I IO_RUN_LATER -c -p"
   ]
  },
  {
   "cell_type": "markdown",
   "metadata": {},
   "source": [
    "+ Note que el tiempo de ejecución disminuye significativamente. Así pues, esta política de ejecución no siempre será la más eficiente.\n",
    "+ Una buena razón para que este tipo de ejecución sea una buena idea sería el hecho \n",
    "de que hay procesos que no siempre necesitan entrada y salida del usuario: alguno demonios.\n"
   ]
  },
  {
   "cell_type": "markdown",
   "metadata": {
    "colab_type": "text",
    "id": "I1_Vrv8CaKjd"
   },
   "source": [
    "#### Ejercicio 8:\n",
    "\n",
    "Ejecuta con algunos procesos generados aleatoriamente: `-s 1 -l 3:50,3:50` o `-s 2 -l 3:50,3:50` o `-s 3 -l 3: 50,3: 50`. \n",
    "\n",
    "- Predice que resultará estas líneas. \n",
    "- ¿Qué sucede cuando  se usa la bandera `-I IO_RUN_INMEDIATE` vs. `-I IO_RUN_LATER` \n",
    "- ¿Qué sucede cuando se usa `-S SWITCH_ON_IO` vs. `-S SWITCH_ON_END?`."
   ]
  },
  {
   "cell_type": "markdown",
   "metadata": {},
   "source": [
    "##### Respuesta 8\n",
    "+ Pues, el resultado del balance entre el número de instrucciones IO y CPU cambiará debido a que se ha cambiado el valor de la semilla para generar los números aleatorios que determinan el tipo de instrucción."
   ]
  },
  {
   "cell_type": "code",
   "execution_count": 17,
   "metadata": {},
   "outputs": [
    {
     "name": "stdout",
     "output_type": "stream",
     "text": [
      "Produce a trace of what would happen when you run these processes:\n",
      "Process 0\n",
      "  cpu\n",
      "  io\n",
      "  io\n",
      "\n",
      "Process 1\n",
      "  cpu\n",
      "  cpu\n",
      "  cpu\n",
      "\n",
      "Important behaviors:\n",
      "  System will switch when\n",
      "the current process is FINISHED or ISSUES AN IO\n",
      "  After IOs, the process issuing the IO will\n",
      "run LATER (when it is its turn)\n",
      "\n",
      "--------------------------------------------------------------------------------\n",
      "Produce a trace of what would happen when you run these processes:\n",
      "Process 0\n",
      "  io\n",
      "  io\n",
      "  cpu\n",
      "\n",
      "Process 1\n",
      "  cpu\n",
      "  io\n",
      "  io\n",
      "\n",
      "Important behaviors:\n",
      "  System will switch when\n",
      "the current process is FINISHED or ISSUES AN IO\n",
      "  After IOs, the process issuing the IO will\n",
      "run LATER (when it is its turn)\n",
      "\n",
      "--------------------------------------------------------------------------------\n",
      "Produce a trace of what would happen when you run these processes:\n",
      "Process 0\n",
      "  cpu\n",
      "  io\n",
      "  cpu\n",
      "\n",
      "Process 1\n",
      "  io\n",
      "  io\n",
      "  cpu\n",
      "\n",
      "Important behaviors:\n",
      "  System will switch when\n",
      "the current process is FINISHED or ISSUES AN IO\n",
      "  After IOs, the process issuing the IO will\n",
      "run LATER (when it is its turn)\n",
      "\n"
     ]
    }
   ],
   "source": [
    "!python3 process-run.py -s 1 -l 3:50,3:50\n",
    "print(\"-\"*80)\n",
    "!python3 process-run.py -s 2 -l 3:50,3:50\n",
    "print(\"-\"*80)\n",
    "!python3 process-run.py -s 3 -l 3:50,3:50"
   ]
  },
  {
   "cell_type": "code",
   "execution_count": 18,
   "metadata": {
    "colab": {},
    "colab_type": "code",
    "id": "T1Qg75LrZ571"
   },
   "outputs": [
    {
     "name": "stdout",
     "output_type": "stream",
     "text": [
      "Produce a trace of what would happen when you run these processes:\n",
      "Process 0\n",
      "  cpu\n",
      "  io\n",
      "  io\n",
      "\n",
      "Process 1\n",
      "  cpu\n",
      "  cpu\n",
      "  cpu\n",
      "\n",
      "Important behaviors:\n",
      "  System will switch when\n",
      "the current process is FINISHED or ISSUES AN IO\n",
      "  After IOs, the process issuing the IO will\n",
      "run IMMEDIATELY\n",
      "\n",
      "--------------------------------------------------------------------------------\n",
      "Produce a trace of what would happen when you run these processes:\n",
      "Process 0\n",
      "  cpu\n",
      "  io\n",
      "  io\n",
      "\n",
      "Process 1\n",
      "  cpu\n",
      "  cpu\n",
      "  cpu\n",
      "\n",
      "Important behaviors:\n",
      "  System will switch when\n",
      "the current process is FINISHED or ISSUES AN IO\n",
      "  After IOs, the process issuing the IO will\n",
      "run LATER (when it is its turn)\n",
      "\n"
     ]
    }
   ],
   "source": [
    "!python3 process-run.py -s 1 -l 3:50,3:50 -I IO_RUN_IMMEDIATE\n",
    "print('-'*80)\n",
    "!python3 process-run.py -s 1 -l 3:50,3:50 -I IO_RUN_LATER"
   ]
  },
  {
   "cell_type": "markdown",
   "metadata": {},
   "source": [
    "+ Como se observa, hay una diferencia en la descripción de la salidas. En la primera, te alerta que el proceso que solicitó IO se reanudará INMEDIATAMENTE. En la segunda, te alerta que el proceso se reanudará DESPUÉS(cuando llegue su turno)"
   ]
  },
  {
   "cell_type": "code",
   "execution_count": 19,
   "metadata": {},
   "outputs": [
    {
     "name": "stdout",
     "output_type": "stream",
     "text": [
      "Produce a trace of what would happen when you run these processes:\n",
      "Process 0\n",
      "  io\n",
      "  io\n",
      "  cpu\n",
      "\n",
      "Process 1\n",
      "  cpu\n",
      "  io\n",
      "  io\n",
      "\n",
      "Important behaviors:\n",
      "  System will switch when\n",
      "the current process is FINISHED or ISSUES AN IO\n",
      "  After IOs, the process issuing the IO will\n",
      "run LATER (when it is its turn)\n",
      "\n",
      "--------------------------------------------------------------------------------\n",
      "Produce a trace of what would happen when you run these processes:\n",
      "Process 0\n",
      "  cpu\n",
      "  io\n",
      "  cpu\n",
      "\n",
      "Process 1\n",
      "  io\n",
      "  io\n",
      "  cpu\n",
      "\n",
      "Important behaviors:\n",
      "  System will switch when\n",
      "the current process is FINISHED\n",
      "  After IOs, the process issuing the IO will\n",
      "run LATER (when it is its turn)\n",
      "\n"
     ]
    }
   ],
   "source": [
    "!python3 process-run.py -s 2 -l 3:50,3:50 -S SWITCH_ON_IO\n",
    "print('-'*80)\n",
    "!python3 process-run.py -s 3 -l 3:50,3:50 -S SWITCH_ON_END"
   ]
  },
  {
   "cell_type": "markdown",
   "metadata": {},
   "source": [
    "+ Como se observa, hay una diferencia en la descripción de la salidas. En la primera, se observa que el sistema cambiará el proceso en ejecución cuando el proceso actual haya FINALIZADO o cuando haya una LLAMADA A IO. En el segundo, te indica que que el sistema cambiará de proceso cuando el proceso actual haya FINALIZADO."
   ]
  }
 ],
 "metadata": {
  "colab": {
   "collapsed_sections": [],
   "name": "Tarea1-CC571.ipynb",
   "provenance": []
  },
  "kernelspec": {
   "display_name": "Python 3",
   "language": "python",
   "name": "python3"
  },
  "language_info": {
   "codemirror_mode": {
    "name": "ipython",
    "version": 3
   },
   "file_extension": ".py",
   "mimetype": "text/x-python",
   "name": "python",
   "nbconvert_exporter": "python",
   "pygments_lexer": "ipython3",
   "version": "3.6.9"
  }
 },
 "nbformat": 4,
 "nbformat_minor": 1
}
