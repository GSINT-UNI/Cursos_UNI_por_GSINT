{
  "nbformat": 4,
  "nbformat_minor": 0,
  "metadata": {
    "colab": {
      "name": "Tarea1-CC571.ipynb",
      "provenance": [],
      "collapsed_sections": []
    },
    "kernelspec": {
      "name": "python3",
      "display_name": "Python 3"
    }
  },
  "cells": [
    {
      "cell_type": "markdown",
      "metadata": {
        "id": "IelPxnSkMZUW",
        "colab_type": "text"
      },
      "source": [
        "## Primera tarea de codificación CC-571\n",
        "\n",
        "El siguiente programada, llamado `process-run.py`,  permite ver cómo cambia el estado de un proceso a medida que se ejecuta en una CPU."
      ]
    },
    {
      "cell_type": "code",
      "metadata": {
        "id": "1A9tbdEOMfPN",
        "colab_type": "code",
        "colab": {
          "base_uri": "https://localhost:8080/",
          "height": 35
        },
        "outputId": "7ed598f8-f92f-4d38-e0bb-6e2967b0c9ee"
      },
      "source": [
        "%%writefile process-run.py\n",
        "\n",
        "#! /usr/bin/env python\n",
        "\n",
        "import sys\n",
        "from optparse import OptionParser\n",
        "import random\n",
        "\n",
        "SCHED_SWITCH_ON_IO = 'SWITCH_ON_IO'\n",
        "SCHED_SWITCH_ON_END = 'SWITCH_ON_END'\n",
        "\n",
        "IO_RUN_LATER = 'IO_RUN_LATER'\n",
        "IO_RUN_IMMEDIATE = 'IO_RUN_IMMEDIATE'\n",
        "\n",
        "STATE_RUNNING = 'RUNNING'\n",
        "STATE_READY = 'READY'\n",
        "STATE_DONE = 'DONE'\n",
        "STATE_WAIT = 'WAITING'\n",
        "\n",
        "PROC_CODE = 'code_'\n",
        "PROC_PC = 'pc_'\n",
        "PROC_ID = 'pid_'\n",
        "PROC_STATE = 'proc_state_'\n",
        "\n",
        "DO_COMPUTE = 'cpu'\n",
        "DO_IO = 'io'\n",
        "\n",
        "\n",
        "class scheduler:\n",
        "    def __init__(self, process_switch_behavior, io_done_behavior, io_length):\n",
        "        self.proc_info = {}\n",
        "        self.process_switch_behavior = process_switch_behavior\n",
        "        self.io_done_behavior = io_done_behavior\n",
        "        self.io_length = io_length\n",
        "        return\n",
        "\n",
        "    def new_process(self):\n",
        "        proc_id = len(self.proc_info)\n",
        "        self.proc_info[proc_id] = {}\n",
        "        self.proc_info[proc_id][PROC_PC] = 0\n",
        "        self.proc_info[proc_id][PROC_ID] = proc_id\n",
        "        self.proc_info[proc_id][PROC_CODE] = []\n",
        "        self.proc_info[proc_id][PROC_STATE] = STATE_READY\n",
        "        return proc_id\n",
        "\n",
        "    def load_file(self, progfile):\n",
        "        fd = open(progfile)\n",
        "        proc_id = self.new_process()\n",
        "        \n",
        "        for line in fd:\n",
        "            tmp = line.split()\n",
        "            if len(tmp) == 0:\n",
        "                continue\n",
        "            opcode = tmp[0]\n",
        "            if opcode == 'compute':\n",
        "                assert(len(tmp) == 2)\n",
        "                for i in range(int(tmp[1])):\n",
        "                    self.proc_info[proc_id][PROC_CODE].append(DO_COMPUTE)\n",
        "            elif opcode == 'io':\n",
        "                assert(len(tmp) == 1)\n",
        "                self.proc_info[proc_id][PROC_CODE].append(DO_IO)\n",
        "        fd.close()\n",
        "        return\n",
        "\n",
        "    def load(self, program_description):\n",
        "        proc_id = self.new_process()\n",
        "        tmp = program_description.split(':')\n",
        "        if len(tmp) != 2:\n",
        "            print ('Bad description (%s): Must be number <x:y>' % program_description)\n",
        "            print ('  where X is the number of instructions')\n",
        "            print ('  and Y is the percent change that an instruction is CPU not IO')\n",
        "            exit(1)\n",
        "\n",
        "        num_instructions, chance_cpu = int(tmp[0]), float(tmp[1])/100.0\n",
        "        for i in range(num_instructions):\n",
        "            if random.random() < chance_cpu:\n",
        "                self.proc_info[proc_id][PROC_CODE].append(DO_COMPUTE)\n",
        "            else:\n",
        "                self.proc_info[proc_id][PROC_CODE].append(DO_IO)\n",
        "        return\n",
        "\n",
        "    def move_to_ready(self, expected, pid=-1):\n",
        "        if pid == -1:\n",
        "            pid = self.curr_proc\n",
        "        assert(self.proc_info[pid][PROC_STATE] == expected)\n",
        "        self.proc_info[pid][PROC_STATE] = STATE_READY\n",
        "        return\n",
        "\n",
        "    def move_to_wait(self, expected):\n",
        "        assert(self.proc_info[self.curr_proc][PROC_STATE] == expected)\n",
        "        self.proc_info[self.curr_proc][PROC_STATE] = STATE_WAIT\n",
        "        return\n",
        "\n",
        "    def move_to_running(self, expected):\n",
        "        assert(self.proc_info[self.curr_proc][PROC_STATE] == expected)\n",
        "        self.proc_info[self.curr_proc][PROC_STATE] = STATE_RUNNING\n",
        "        return\n",
        "\n",
        "    def move_to_done(self, expected):\n",
        "        assert(self.proc_info[self.curr_proc][PROC_STATE] == expected)\n",
        "        self.proc_info[self.curr_proc][PROC_STATE] = STATE_DONE\n",
        "        return\n",
        "\n",
        "    def next_proc(self, pid=-1):\n",
        "        if pid != -1:\n",
        "            self.curr_proc = pid\n",
        "            self.move_to_running(STATE_READY)\n",
        "            return\n",
        "        for pid in range(self.curr_proc + 1, len(self.proc_info)):\n",
        "            if self.proc_info[pid][PROC_STATE] == STATE_READY:\n",
        "                self.curr_proc = pid\n",
        "                self.move_to_running(STATE_READY)\n",
        "                return\n",
        "        for pid in range(0, self.curr_proc + 1):\n",
        "            if self.proc_info[pid][PROC_STATE] == STATE_READY:\n",
        "                self.curr_proc = pid\n",
        "                self.move_to_running(STATE_READY)\n",
        "                return\n",
        "        return\n",
        "\n",
        "    def get_num_processes(self):\n",
        "        return len(self.proc_info)\n",
        "\n",
        "    def get_num_instructions(self, pid):\n",
        "        return len(self.proc_info[pid][PROC_CODE])\n",
        "\n",
        "    def get_instruction(self, pid, index):\n",
        "        return self.proc_info[pid][PROC_CODE][index]\n",
        "\n",
        "    def get_num_active(self):\n",
        "        num_active = 0\n",
        "        for pid in range(len(self.proc_info)):\n",
        "            if self.proc_info[pid][PROC_STATE] != STATE_DONE:\n",
        "                num_active += 1\n",
        "        return num_active\n",
        "\n",
        "    def get_num_runnable(self):\n",
        "        num_active = 0\n",
        "        for pid in range(len(self.proc_info)):\n",
        "            if self.proc_info[pid][PROC_STATE] == STATE_READY or \\\n",
        "                   self.proc_info[pid][PROC_STATE] == STATE_RUNNING:\n",
        "                num_active += 1\n",
        "        return num_active\n",
        "\n",
        "    def get_ios_in_flight(self, current_time):\n",
        "        num_in_flight = 0\n",
        "        for pid in range(len(self.proc_info)):\n",
        "            for t in self.io_finish_times[pid]:\n",
        "                if t > current_time:\n",
        "                    num_in_flight += 1\n",
        "        return num_in_flight\n",
        "\n",
        "    def check_for_switch(self):\n",
        "        return\n",
        "\n",
        "    def space(self, num_columns):\n",
        "        for i in range(num_columns):\n",
        "            print ('%10s' % ' ',)\n",
        "\n",
        "    def check_if_done(self):\n",
        "        if len(self.proc_info[self.curr_proc][PROC_CODE]) == 0:\n",
        "            if self.proc_info[self.curr_proc][PROC_STATE] == STATE_RUNNING:\n",
        "                self.move_to_done(STATE_RUNNING)\n",
        "                self.next_proc()\n",
        "        return\n",
        "\n",
        "    def run(self):\n",
        "        clock_tick = 0\n",
        "\n",
        "        if len(self.proc_info) == 0:\n",
        "            return\n",
        "\n",
        "        self.io_finish_times = {}\n",
        "        for pid in range(len(self.proc_info)):\n",
        "            self.io_finish_times[pid] = []\n",
        "\n",
        "        self.curr_proc = 0\n",
        "        self.move_to_running(STATE_READY)\n",
        "\n",
        "        print ('%s' % 'Time',) \n",
        "        for pid in range(len(self.proc_info)):\n",
        "            print ('%10s' % ('PID:%2d' % (pid)),\n",
        "        print ('%10s' % 'CPU',)\n",
        "        print ('%10s' % 'IOs',)\n",
        "        print ('')\n",
        "\n",
        "        io_busy = 0\n",
        "        cpu_busy = 0\n",
        "\n",
        "        while self.get_num_active() > 0:\n",
        "            clock_tick += 1\n",
        "\n",
        "            io_done = False\n",
        "            for pid in range(len(self.proc_info)):\n",
        "                if clock_tick in self.io_finish_times[pid]:\n",
        "                    io_done = True\n",
        "                    self.move_to_ready(STATE_WAIT, pid)\n",
        "                    if self.io_done_behavior == IO_RUN_IMMEDIATE:\n",
        "                        if self.curr_proc != pid:\n",
        "                            if self.proc_info[self.curr_proc][PROC_STATE] == STATE_RUNNING:\n",
        "                                self.move_to_ready(STATE_RUNNING)\n",
        "                        self.next_proc(pid)\n",
        "                    else:\n",
        "                        if self.process_switch_behavior == SCHED_SWITCH_ON_END and self.get_num_runnable() > 1:\n",
        "                            self.next_proc(pid)\n",
        "                        if self.get_num_runnable() == 1:\n",
        "                            self.next_proc(pid)\n",
        "                    self.check_if_done()\n",
        "            \n",
        "            instruction_to_execute = ''\n",
        "            if self.proc_info[self.curr_proc][PROC_STATE] == STATE_RUNNING and \\\n",
        "                   len(self.proc_info[self.curr_proc][PROC_CODE]) > 0:\n",
        "                instruction_to_execute = self.proc_info[self.curr_proc][PROC_CODE].pop(0)\n",
        "                cpu_busy += 1\n",
        "\n",
        "            if io_done:\n",
        "                print ('%3d*' % clock_tick,)\n",
        "            else:\n",
        "                print ('%3d ' % clock_tick,)\n",
        "            for pid in range(len(self.proc_info)):\n",
        "                if pid == self.curr_proc and instruction_to_execute != '':\n",
        "                    print ('%10s' % ('RUN:'+instruction_to_execute),)\n",
        "                else:\n",
        "                    print ('%10s' % (self.proc_info[pid][PROC_STATE]),)\n",
        "            if instruction_to_execute == '':\n",
        "                print ('%10s' % ' ',)\n",
        "            else:\n",
        "                print ('%10s' % 1,)\n",
        "            num_outstanding = self.get_ios_in_flight(clock_tick)\n",
        "            if num_outstanding > 0:\n",
        "                print ('%10s' % str(num_outstanding),)\n",
        "                io_busy += 1\n",
        "            else:\n",
        "                print ('%10s' % ' ',)\n",
        "            print ('')\n",
        "\n",
        "            if instruction_to_execute == DO_IO:\n",
        "                self.move_to_wait(STATE_RUNNING)\n",
        "                self.io_finish_times[self.curr_proc].append(clock_tick + self.io_length)\n",
        "                if self.process_switch_behavior == SCHED_SWITCH_ON_IO:\n",
        "                    self.next_proc()\n",
        "\n",
        "            self.check_if_done()\n",
        "        return (cpu_busy, io_busy, clock_tick)\n",
        "        \n",
        "\n",
        "\n",
        "parser = OptionParser()\n",
        "parser.add_option('-s', '--seed', default=0, help='the random seed', action='store', type='int', dest='seed')\n",
        "parser.add_option('-l', '--processlist', default='',\n",
        "                  help='a comma-separated list of processes to run, in the form X1:Y1,X2:Y2,... where X is the number of instructions that process should run, and Y the chances (from 0 to 100) that an instruction will use the CPU or issue an IO',\n",
        "                  action='store', type='string', dest='process_list')\n",
        "parser.add_option('-L', '--iolength', default=5, help='how long an IO takes', action='store', type='int', dest='io_length')\n",
        "parser.add_option('-S', '--switch', default='SWITCH_ON_IO',\n",
        "                  help='when to switch between processes: SWITCH_ON_IO, SWITCH_ON_END',\n",
        "                  action='store', type='string', dest='process_switch_behavior')\n",
        "parser.add_option('-I', '--iodone', default='IO_RUN_LATER',\n",
        "                  help='type of behavior when IO ends: IO_RUN_LATER, IO_RUN_IMMEDIATE',\n",
        "                  action='store', type='string', dest='io_done_behavior')\n",
        "parser.add_option('-c', help='compute answers for me', action='store_true', default=False, dest='solve')\n",
        "parser.add_option('-p', '--printstats', help='print statistics at end; only useful with -c flag (otherwise stats are not printed)', action='store_true', default=False, dest='print_stats')\n",
        "(options, args) = parser.parse_args()\n",
        "\n",
        "random.seed(options.seed)\n",
        "\n",
        "assert(options.process_switch_behavior == SCHED_SWITCH_ON_IO or \\\n",
        "       options.process_switch_behavior == SCHED_SWITCH_ON_END)\n",
        "assert(options.io_done_behavior == IO_RUN_IMMEDIATE or \\\n",
        "       options.io_done_behavior == IO_RUN_LATER)\n",
        "\n",
        "s = scheduler(options.process_switch_behavior, options.io_done_behavior, options.io_length)\n",
        "\n",
        "for p in options.process_list.split(','):\n",
        "    s.load(p)\n",
        "\n",
        "if options.solve == False:\n",
        "    print ('Produce a trace of what would happen when you run these processes:')\n",
        "    for pid in range(s.get_num_processes()):\n",
        "        print ('Process %d' % pid)\n",
        "        for inst in range(s.get_num_instructions(pid)):\n",
        "            print ('  %s' % s.get_instruction(pid, inst))\n",
        "        print ('')\n",
        "    print ('Important behaviors:')\n",
        "    print ('  System will switch when'),\n",
        "    if options.process_switch_behavior == SCHED_SWITCH_ON_IO:\n",
        "        print ('the current process is FINISHED or ISSUES AN IO')\n",
        "    else:\n",
        "        print ('the current process is FINISHED')\n",
        "    print ('  After IOs, the process issuing the IO will'),\n",
        "    if options.io_done_behavior == IO_RUN_IMMEDIATE:\n",
        "        print ('run IMMEDIATELY')\n",
        "    else:\n",
        "        print ('run LATER (when it is its turn)')\n",
        "    print ''\n",
        "    exit(0)\n",
        "\n",
        "(cpu_busy, io_busy, clock_tick) = s.run()\n",
        "\n",
        "if options.print_stats:\n",
        "    print ('')\n",
        "    print ('Stats: Total Time %d' % clock_tick)\n",
        "    print ('Stats: CPU Busy %d (%.2f%%)' % (cpu_busy, 100.0 * float(cpu_busy)/clock_tick))\n",
        "    print ('Stats: IO Busy  %d (%.2f%%)' % (io_busy, 100.0 * float(io_busy)/clock_tick))\n",
        "    print ('')"
      ],
      "execution_count": 1,
      "outputs": [
        {
          "output_type": "stream",
          "text": [
            "Writing process-run.py\n"
          ],
          "name": "stdout"
        }
      ]
    },
    {
      "cell_type": "markdown",
      "metadata": {
        "id": "vGezNXLHNsY9",
        "colab_type": "text"
      },
      "source": [
        "#### Ejercicio 1 \n",
        "\n",
        "Corrige y ejecuta el script  y muestra las distintas opciones que produce."
      ]
    },
    {
      "cell_type": "code",
      "metadata": {
        "id": "AiaOiN_PNJUw",
        "colab_type": "code",
        "colab": {}
      },
      "source": [
        "### Tu respuesta"
      ],
      "execution_count": 0,
      "outputs": []
    },
    {
      "cell_type": "markdown",
      "metadata": {
        "id": "WTMpWzB4OR4-",
        "colab_type": "text"
      },
      "source": [
        "#### Ejercicio 2\n",
        "\n",
        "Explica que función realizan las siguientes opciones:\n",
        "\n",
        "- `PROCESS_LIST`\n",
        "- `PROCESS_SWITCH_BEHAVIOR`\n",
        "- `IO_DONE_BEHAVIOR`"
      ]
    },
    {
      "cell_type": "code",
      "metadata": {
        "id": "VsHpsMLOONSx",
        "colab_type": "code",
        "colab": {}
      },
      "source": [
        "### Tu respuesta"
      ],
      "execution_count": 0,
      "outputs": []
    },
    {
      "cell_type": "markdown",
      "metadata": {
        "id": "73t8LNFcPZRp",
        "colab_type": "text"
      },
      "source": [
        "### Ejercicio 3:\n",
        "\n",
        "Explica las salidas de (en colab o jupyter usar una comando mágico como `%run file.py`): \n",
        "\n",
        "- `prompt> ./process-run.py -l 5:100` \n",
        "\n",
        "- `prompt> ./process-run.py -l 5:100 -c`\n",
        "\n",
        "- `prompt> ./process-run.py -l 5:100, 5:100 `\n",
        "\n",
        "- `prompt> ./process-run.py -l 5:100, 5:100 -c`\n",
        "\n",
        "- `prompt> ./process-run.py -l 3:0 -L 5`\n",
        "\n",
        "- `prompt> ./process-run.py -l 3:0 -L 5 -c`"
      ]
    },
    {
      "cell_type": "code",
      "metadata": {
        "id": "o2j7KYf9PTWz",
        "colab_type": "code",
        "colab": {}
      },
      "source": [
        "### Tu respuesta"
      ],
      "execution_count": 0,
      "outputs": []
    },
    {
      "cell_type": "markdown",
      "metadata": {
        "id": "q16b7d_TQtJx",
        "colab_type": "text"
      },
      "source": [
        "#### Ejercicio 4:\n",
        "\n",
        "- Imprime estadísticas usando los mismo comandos anteriores, pero con la opción `-p`\n",
        "\n",
        "- Explica tus conclusiones."
      ]
    },
    {
      "cell_type": "code",
      "metadata": {
        "id": "BFUzmJ8eQl11",
        "colab_type": "code",
        "colab": {}
      },
      "source": [
        "### Tu respuesta"
      ],
      "execution_count": 0,
      "outputs": []
    },
    {
      "cell_type": "markdown",
      "metadata": {
        "id": "LtvlAkmiRgAX",
        "colab_type": "text"
      },
      "source": [
        "#### Ejercicio 5:\n",
        "\n",
        "Una opción importante es `-S`. Con esta opción configurada en `SWITCH ON END`, el sistema NO cambiará a otro proceso mientras uno esté realizando un `E/S`, sino que esperará hasta que el proceso haya terminado por completo.\n",
        "\n",
        "- Explica que hace la opción `-S`.\n",
        "- ¿Qué sucede cuando se ejecutan los siguientes dos procesos (`-l 1: 0,4: 100 -c -S SWITCH ON END`), uno haciendo `E/S` y el otro haciendo trabajo de CPU?"
      ]
    },
    {
      "cell_type": "code",
      "metadata": {
        "id": "nBzeFA3yRKxQ",
        "colab_type": "code",
        "colab": {}
      },
      "source": [
        "### Tu respuesta"
      ],
      "execution_count": 0,
      "outputs": []
    },
    {
      "cell_type": "markdown",
      "metadata": {
        "id": "EuVdyhVxSzwl",
        "colab_type": "text"
      },
      "source": [
        "#### Ejercicio 6: \n",
        "\n",
        "Ahora, ejecute los mismos procesos, pero con el comportamiento `switching` configurado para cambiar a otro proceso siempre `WAITING` es para `E/S` (`-l 1: 0,4: 100 -c -S SWITCH_ON_IO`). \n",
        "\n",
        "- ¿Que pasa ahora? \n",
        "- Utiliza `-c` y `-p` y explica que ocurre."
      ]
    },
    {
      "cell_type": "code",
      "metadata": {
        "id": "8m3lp82BSptw",
        "colab_type": "code",
        "colab": {}
      },
      "source": [
        "### Tu respuesta"
      ],
      "execution_count": 0,
      "outputs": []
    },
    {
      "cell_type": "markdown",
      "metadata": {
        "id": "G-3kMnJAV2KI",
        "colab_type": "text"
      },
      "source": [
        "#### Ejercicio 7:\n",
        "\n",
        "Otro comportamiento importante es qué hacer cuando se completa una `E/S`. \n",
        "\n",
        "\n",
        "- ¿Qué sucede  con  `-I IO_RUN_LATER`, cuando se completa una `E/S`\n",
        "- Qué sucede cuando ejecuta esta combinación de procesos: \n",
        " ` prompt> ./process-run.py -l 3: 0,5: 100,5: 100,5: 100 -S SWITCH_ON_IO -I IO_RUN_LATER -c -p`).  ¿Se están utilizando eficazmente los recursos del sistema?.\n",
        "\n",
        "- Ejecuta los mismos procesos, pero con con `-I IO RUN INMEDIATE`, ¿cómo difiere este comportamiento del anterior?. ¿Por qué crees que podría ser una buena idea ejecutar un proceso que acaba de completar una `E/S` nuevamente?."
      ]
    },
    {
      "cell_type": "code",
      "metadata": {
        "id": "aW74S_cuVQH4",
        "colab_type": "code",
        "colab": {}
      },
      "source": [
        "### Tu respuesta"
      ],
      "execution_count": 0,
      "outputs": []
    },
    {
      "cell_type": "markdown",
      "metadata": {
        "id": "I1_Vrv8CaKjd",
        "colab_type": "text"
      },
      "source": [
        "#### Ejercicio 8:\n",
        "\n",
        "Ejecuta con algunos procesos generados aleatoriamente: `-s 1 -l 3: 50,3: 50 o -s 2 -l 3: 50,3: 50 o `-s 3 -l 3: 50,3: 50`. \n",
        "\n",
        "- Predice que resultará estas líneas. \n",
        "- ¿Qué sucede cuando  se usa la bandera `-I IO_RUN_INMEDIATE` vs. `-I IO_RUN_LATER` \n",
        "- ¿Qué sucede cuando se usa `-S SWITCH_ON_IO` vs. `-S SWITCH_ON_END?`."
      ]
    },
    {
      "cell_type": "code",
      "metadata": {
        "id": "T1Qg75LrZ571",
        "colab_type": "code",
        "colab": {}
      },
      "source": [
        "### Tu respuesta"
      ],
      "execution_count": 0,
      "outputs": []
    },
    {
      "cell_type": "code",
      "metadata": {
        "id": "J6hMP95ubFic",
        "colab_type": "code",
        "colab": {}
      },
      "source": [
        ""
      ],
      "execution_count": 0,
      "outputs": []
    }
  ]
}